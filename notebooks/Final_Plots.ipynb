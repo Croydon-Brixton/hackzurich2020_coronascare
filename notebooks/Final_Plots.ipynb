{
 "cells": [
  {
   "cell_type": "code",
   "execution_count": null,
   "metadata": {
    "ExecuteTime": {
     "end_time": "2020-09-19T20:16:43.086594Z",
     "start_time": "2020-09-19T20:16:36.100403Z"
    }
   },
   "outputs": [],
   "source": [
    "import pandas as pd\n",
    "import os\n",
    "import sys\n",
    "sys.path.append(\"..\") # Adds higher directory to python modules path.\n",
    "from src.constants import *\n",
    "import folium\n",
    "import IPython\n",
    "from folium.plugins import HeatMap\n",
    "import glob\n",
    "from folium.plugins import HeatMapWithTime\n",
    "from jinja2 import Template\n",
    "from folium.map import Layer\n",
    "from tqdm.auto import tqdm\n",
    "import joblib\n",
    "import seaborn as sns\n",
    "data_twitter = joblib.load(os.path.join(DATA_PATH,\"TWITTER_DATA.joblib\"))\n",
    "data_covid = joblib.load(os.path.join(DATA_PATH,\"COVID_DATA.joblib\"))\n",
    "data_media = joblib.load(os.path.join(DATA_PATH,\"MEDIA_DATA.joblib\"))\n",
    "def generateBaseMap(default_location=[46.900, 8.4375], default_zoom_start=5):\n",
    "    base_map = folium.Map(location=default_location, control_scale=True, zoom_start=default_zoom_start, tiles =\"https://api.mapbox.com/styles/v1/tigerflystudio/ckf9pjhvp1naa19rwl43ahilz/tiles/256/{z}/{x}/{y}@2x?access_token=pk.eyJ1IjoidGlnZXJmbHlzdHVkaW8iLCJhIjoiY2tmOW94a3kzMG83ZTJybWFqc28ydDI1NyJ9.uoRh84Gv3y9J397hMz-BDw\",\n",
    "           attr='Mapbox Control Room')\n",
    "    return base_map"
   ]
  },
  {
   "cell_type": "code",
   "execution_count": null,
   "metadata": {
    "ExecuteTime": {
     "end_time": "2020-09-19T20:17:23.947366Z",
     "start_time": "2020-09-19T20:17:23.942571Z"
    }
   },
   "outputs": [],
   "source": [
    "from IPython.display import HTML\n",
    "HTML('''\n",
    "<style>\n",
    "* {\n",
    "  box-sizing: border-box;\n",
    "}\n",
    "\n",
    "/* Create three equal columns that floats next to each other */\n",
    ".column {\n",
    "  float: left;\n",
    "  width: 30%;\n",
    "  padding: 10px;\n",
    "}\n",
    "\n",
    "/* Create three equal columns that floats next to each other */\n",
    ".column2 {\n",
    "  text-align: center;\n",
    "  float: left;\n",
    "  width: 40%;\n",
    "  padding: 10px;\n",
    "}\n",
    "\n",
    "/* Clear floats after the columns */\n",
    ".row:after {\n",
    "  content: \"\";\n",
    "  display: table;\n",
    "  clear: both;\n",
    "}\n",
    "\n",
    "/* Responsive layout - makes the three columns stack on top of each other instead of next to each other */\n",
    "@media screen and (max-width: 600px) {\n",
    "  .column {\n",
    "    width: 100%;\n",
    "  }\n",
    "}\n",
    "</style>\n",
    "</head>\n",
    "<div class=\"row\">\n",
    "  <div class=\"column\">\n",
    "    <img id=\"plotly-image\" src=\"logo.png\" style=\"height: 70px; width: auto; margin-bottom: 25px;\">\n",
    "  </div>\n",
    "  <div class=\"column2\">\n",
    "    <h1 style=\"font-size:3em;\">COVID-19 Scare Level</h1>\n",
    "<h4 style=\"margin-top: 0px;\">An interactive dashboard for journalists</h4>\n",
    "  </div>\n",
    "  <div class=\"column\">\n",
    "    \n",
    "  </div>\n",
    "</div>\n",
    "''')"
   ]
  },
  {
   "cell_type": "code",
   "execution_count": null,
   "metadata": {
    "ExecuteTime": {
     "end_time": "2020-09-19T20:33:43.433300Z",
     "start_time": "2020-09-19T20:33:43.429453Z"
    }
   },
   "outputs": [],
   "source": [
    "def centering(s):\n",
    "    return HTML('''\n",
    "    <style>\n",
    "    .column2 {\n",
    "      text-align: center;\n",
    "      float: left;\n",
    "      width: 100%;\n",
    "      padding: 10px;\n",
    "    }\n",
    "    .row:after {\n",
    "      content: \"\";\n",
    "      display: table;\n",
    "      clear: both;\n",
    "    }\n",
    "\n",
    "    /* Responsive layout - makes the three columns stack on top of each other instead of next to each other */\n",
    "    @media screen and (max-width: 600px) {\n",
    "      .column {\n",
    "        width: 100%;\n",
    "      }\n",
    "    }\n",
    "    </style>\n",
    "    </head>\n",
    "    <div class=\"row\">\n",
    "      <div class=\"column2\">\n",
    "        <h2 style=\"font-size:2em;\">''' + s + '''</h2>\n",
    "      </div>\n",
    "      <div class=\"column\">\n",
    "\n",
    "      </div>\n",
    "    </div>\n",
    "    ''')"
   ]
  },
  {
   "cell_type": "code",
   "execution_count": null,
   "metadata": {
    "ExecuteTime": {
     "end_time": "2020-09-19T20:34:02.790664Z",
     "start_time": "2020-09-19T20:34:02.785630Z"
    }
   },
   "outputs": [],
   "source": [
    "centering(\"Corona Mentions in Swiss News Sources over Time\")"
   ]
  },
  {
   "cell_type": "code",
   "execution_count": null,
   "metadata": {
    "ExecuteTime": {
     "end_time": "2020-09-19T20:16:43.163360Z",
     "start_time": "2020-09-19T20:16:43.088452Z"
    }
   },
   "outputs": [],
   "source": [
    "base_map = generateBaseMap(default_zoom_start=8)\n",
    "hmap_time_media = HeatMapWithTime(data_media,overlay=True,name='Media',min_opacity=0.05,radius=20,max_opacity=1, gradient ={0.2: 'lawngreen', 0.5: 'limegreen', 0.7: 'green', 1.0: 'darkgreen'}).add_to(base_map)\n",
    "base_map.add_child(hmap_time_media)"
   ]
  },
  {
   "cell_type": "code",
   "execution_count": null,
   "metadata": {
    "ExecuteTime": {
     "end_time": "2020-09-19T20:34:56.910379Z",
     "start_time": "2020-09-19T20:34:56.906705Z"
    }
   },
   "outputs": [],
   "source": [
    "centering(\"Corona Case Data\")"
   ]
  },
  {
   "cell_type": "code",
   "execution_count": null,
   "metadata": {
    "ExecuteTime": {
     "end_time": "2020-09-19T20:16:44.862702Z",
     "start_time": "2020-09-19T20:16:43.166314Z"
    },
    "scrolled": false
   },
   "outputs": [],
   "source": [
    "base_map = generateBaseMap(default_zoom_start=1.5)\n",
    "hmap_time_media = HeatMapWithTime(data_covid,overlay=True,name='COVID',min_opacity=0.05,radius=20,max_opacity=1, gradient ={0.2: 'yellow', 0.5: 'gold', 0.8: 'orange', 1.0: 'red'}).add_to(base_map)\n",
    "base_map.add_child(hmap_time_media)"
   ]
  },
  {
   "cell_type": "code",
   "execution_count": null,
   "metadata": {
    "ExecuteTime": {
     "end_time": "2020-09-19T20:35:01.469061Z",
     "start_time": "2020-09-19T20:35:01.465481Z"
    }
   },
   "outputs": [],
   "source": [
    "centering(\"Corona Related Tweets\")"
   ]
  },
  {
   "cell_type": "code",
   "execution_count": null,
   "metadata": {
    "ExecuteTime": {
     "end_time": "2020-09-19T20:24:51.815889Z",
     "start_time": "2020-09-19T20:24:47.833893Z"
    },
    "scrolled": false
   },
   "outputs": [],
   "source": [
    "base_map = generateBaseMap(default_zoom_start=6)\n",
    "hmap_time_media = HeatMapWithTime(data_twitter,overlay=True,name='Twitter',min_opacity=0.05,radius=10,max_opacity=1, gradient ={0.2: 'lightsteelblue', 0.5: 'cornflowerblue', 0.7: 'royalblue', 1.0: 'navy'}).add_to(base_map)\n",
    "base_map.add_child(hmap_time_media)"
   ]
  },
  {
   "cell_type": "code",
   "execution_count": null,
   "metadata": {
    "ExecuteTime": {
     "end_time": "2020-09-19T20:35:23.097519Z",
     "start_time": "2020-09-19T20:35:23.093457Z"
    }
   },
   "outputs": [],
   "source": [
    "centering(\"Corona Scare Level in Switzerland\")"
   ]
  },
  {
   "cell_type": "code",
   "execution_count": null,
   "metadata": {
    "ExecuteTime": {
     "end_time": "2020-09-19T20:50:16.980269Z",
     "start_time": "2020-09-19T20:50:16.961415Z"
    }
   },
   "outputs": [],
   "source": [
    "#LOAD AND CLEAN COVID DATA\n",
    "\n",
    "scare_twitter = joblib.load(os.path.join(DATA_PATH,\"Twitter_Scare_Score.joblib\")).copy()\n",
    "scare_media = pd.read_csv(os.path.join(DATA_PATH,\"srf_data/processed/Swiss_media_score.csv\"))\n",
    "scare_media.pubDateTime = pd.to_datetime(scare_media.pubDateTime)\n",
    "scare_media = scare_media[(scare_media[\"pubDateTime\"] > \"2020-01-20\") & (scare_media[\"pubDateTime\"] < \"2020-06-08\")]\n",
    "scare_sentiment = pd.read_csv(os.path.join(DATA_PATH,\"srf_data/processed/Swiss_media_corona_sentiment_score.csv\"))\n",
    "scare_sentiment.pubDateTime = pd.to_datetime(scare_sentiment.pubDateTime)\n",
    "scare_sentiment = scare_sentiment[(scare_sentiment[\"pubDateTime\"] > \"2020-01-20\") & (scare_sentiment[\"pubDateTime\"] < \"2020-06-08\")]\n",
    "scare_sentiment= scare_sentiment.set_index(\"pubDateTime\")\n",
    "\n",
    "plot_data = scare_media[[\"pubDateTime\", \"Media_Score\"]]\n",
    "plot_data= plot_data.set_index(\"pubDateTime\")\n",
    "\n",
    "plot_data = plot_data.rename(columns={\"Media_Score\": \"Media\"})\n",
    "scare_sentiment = scare_sentiment.rename(columns={\"Score\": \"Sentiment\"})\n",
    "scare_twitter = scare_twitter.rename(columns={\"count\": \"Twitter\"})\n",
    "\n",
    "#ax = sns.lineplot(data =scare_twitter, palette=['blue'])\n",
    "#sns.lineplot(data = plot_data, ax=ax, palette=['green'])"
   ]
  },
  {
   "cell_type": "code",
   "execution_count": 61,
   "metadata": {
    "ExecuteTime": {
     "end_time": "2020-09-19T21:02:03.001665Z",
     "start_time": "2020-09-19T21:02:02.969721Z"
    }
   },
   "outputs": [],
   "source": [
    "import numpy as np\n",
    "\n",
    "from bokeh.layouts import gridplot\n",
    "from bokeh.plotting import figure, output_notebook, show\n",
    "\n",
    "def datetime(x):\n",
    "    return np.array(x, dtype=np.datetime64)\n",
    "\n",
    "p1 = figure(x_axis_type=\"datetime\", title=\"Corona Scare\")\n",
    "p1.grid.grid_line_alpha=0.3\n",
    "p1.xaxis.axis_label = 'Scare'\n",
    "p1.yaxis.axis_label = 'Time'\n",
    "\n",
    "p1.line(scare_twitter.index, scare_twitter.Twitter, color='red', legend_label='Twitter')\n",
    "p1.line(plot_data.index, plot_data.Media, color='green', legend_label='Media')\n",
    "p1.legend.location = \"top_left\"\n",
    "\n",
    "p2 = figure(x_axis_type=\"datetime\", title=\"Sentiment of Corona Related Articles\")\n",
    "p2.grid.grid_line_alpha=0.3\n",
    "p2.xaxis.axis_label = 'Sentiment'\n",
    "p2.yaxis.axis_label = 'Time'\n",
    "\n",
    "p2.line(scare_sentiment.index, scare_sentiment.Sentiment, color='blue', legend_label='Sentiment')\n",
    "output_notebook(hide_banner=True)\n"
   ]
  },
  {
   "cell_type": "code",
   "execution_count": 58,
   "metadata": {
    "ExecuteTime": {
     "end_time": "2020-09-19T20:59:31.756206Z",
     "start_time": "2020-09-19T20:59:31.633164Z"
    }
   },
   "outputs": [
    {
     "data": {
      "text/html": [
       "\n",
       "\n",
       "\n",
       "\n",
       "\n",
       "\n",
       "  <div class=\"bk-root\" id=\"af6e61c9-9b0a-469d-9a4e-74cac6e00c61\" data-root-id=\"9379\"></div>\n"
      ]
     },
     "metadata": {},
     "output_type": "display_data"
    },
    {
     "data": {
      "application/javascript": [
       "(function(root) {\n",
       "  function embed_document(root) {\n",
       "    \n",
       "  var docs_json = {\"52e70f54-22d5-4d72-b6d4-6bb01c9ec1f6\":{\"roots\":{\"references\":[{\"attributes\":{\"children\":[{\"id\":\"9378\"},{\"id\":\"9376\"}]},\"id\":\"9379\",\"type\":\"Column\"},{\"attributes\":{\"months\":[0,2,4,6,8,10]},\"id\":\"7832\",\"type\":\"MonthsTicker\"},{\"attributes\":{\"months\":[0,6]},\"id\":\"7834\",\"type\":\"MonthsTicker\"},{\"attributes\":{\"months\":[0,1,2,3,4,5,6,7,8,9,10,11]},\"id\":\"7831\",\"type\":\"MonthsTicker\"},{\"attributes\":{},\"id\":\"7835\",\"type\":\"YearsTicker\"},{\"attributes\":{\"months\":[0,4,8]},\"id\":\"7833\",\"type\":\"MonthsTicker\"},{\"attributes\":{\"days\":[1,15]},\"id\":\"7830\",\"type\":\"DaysTicker\"},{\"attributes\":{\"below\":[{\"id\":\"7792\"}],\"center\":[{\"id\":\"7795\"},{\"id\":\"7799\"},{\"id\":\"7839\"}],\"left\":[{\"id\":\"7796\"}],\"plot_height\":400,\"plot_width\":600,\"renderers\":[{\"id\":\"7817\"},{\"id\":\"7844\"}],\"title\":{\"id\":\"7782\"},\"toolbar\":{\"id\":\"7807\"},\"toolbar_location\":null,\"x_range\":{\"id\":\"7784\"},\"x_scale\":{\"id\":\"7788\"},\"y_range\":{\"id\":\"7786\"},\"y_scale\":{\"id\":\"7790\"}},\"id\":\"7781\",\"subtype\":\"Figure\",\"type\":\"Plot\"},{\"attributes\":{},\"id\":\"7837\",\"type\":\"UnionRenderers\"},{\"attributes\":{\"toolbar\":{\"id\":\"9377\"},\"toolbar_location\":\"above\"},\"id\":\"9378\",\"type\":\"ToolbarBox\"},{\"attributes\":{\"data_source\":{\"id\":\"7902\"},\"glyph\":{\"id\":\"7903\"},\"hover_glyph\":null,\"muted_glyph\":null,\"nonselection_glyph\":{\"id\":\"7904\"},\"selection_glyph\":null,\"view\":{\"id\":\"7906\"}},\"id\":\"7905\",\"type\":\"GlyphRenderer\"},{\"attributes\":{},\"id\":\"7885\",\"type\":\"BasicTicker\"},{\"attributes\":{},\"id\":\"7838\",\"type\":\"Selection\"},{\"attributes\":{\"source\":{\"id\":\"7902\"}},\"id\":\"7906\",\"type\":\"CDSView\"},{\"attributes\":{},\"id\":\"7786\",\"type\":\"DataRange1d\"},{\"attributes\":{\"line_color\":\"red\",\"x\":{\"field\":\"x\"},\"y\":{\"field\":\"y\"}},\"id\":\"7815\",\"type\":\"Line\"},{\"attributes\":{\"data_source\":{\"id\":\"7841\"},\"glyph\":{\"id\":\"7842\"},\"hover_glyph\":null,\"muted_glyph\":null,\"nonselection_glyph\":{\"id\":\"7843\"},\"selection_glyph\":null,\"view\":{\"id\":\"7845\"}},\"id\":\"7844\",\"type\":\"GlyphRenderer\"},{\"attributes\":{\"text\":\"Corona Scare\"},\"id\":\"7782\",\"type\":\"Title\"},{\"attributes\":{},\"id\":\"7784\",\"type\":\"DataRange1d\"},{\"attributes\":{\"axis\":{\"id\":\"7792\"},\"grid_line_alpha\":0.3,\"ticker\":null},\"id\":\"7795\",\"type\":\"Grid\"},{\"attributes\":{\"data\":{\"x\":{\"__ndarray__\":\"AACAYVb8dkIAAEDHqPx2QgAAAC37/HZCAADAkk39dkIAAID4n/12QgAAQF7y/XZCAAAAxET+dkIAAMApl/52QgAAgI/p/nZCAABA9Tv/dkIAAABbjv92QgAAwMDg/3ZCAACAJjMAd0IAAECMhQB3QgAAAPLXAHdCAADAVyoBd0IAAIC9fAF3QgAAQCPPAXdCAAAAiSECd0IAAMDucwJ3QgAAgFTGAndCAABAuhgDd0IAAAAgawN3QgAAwIW9A3dCAACA6w8Ed0IAAEBRYgR3QgAAALe0BHdCAADAHAcFd0IAAICCWQV3QgAAQOirBXdCAAAATv4Fd0IAAMCzUAZ3QgAAgBmjBndCAABAf/UGd0IAAADlRwd3QgAAwEqaB3dCAACAsOwHd0IAAEAWPwh3QgAAAHyRCHdCAADA4eMId0IAAIBHNgl3QgAAQK2ICXdCAAAAE9sJd0IAAMB4LQp3QgAAgN5/CndCAABARNIKd0IAAACqJAt3QgAAwA93C3dCAACAdckLd0IAAEDbGwx3QgAAAEFuDHdCAADApsAMd0IAAIAMEw13QgAAQHJlDXdCAAAA2LcNd0IAAMA9Cg53QgAAgKNcDndCAABACa8Od0IAAABvAQ93QgAAwNRTD3dCAACAOqYPd0IAAECg+A93QgAAAAZLEHdCAADAa50Qd0IAAIDR7xB3QgAAQDdCEXdCAAAAnZQRd0IAAMAC5xF3QgAAgGg5EndCAABAzosSd0IAAAA03hJ3QgAAwJkwE3dCAACA/4ITd0IAAEBl1RN3QgAAAMsnFHdCAADAMHoUd0IAAICWzBR3QgAAQPweFXdCAAAAYnEVd0IAAMDHwxV3QgAAgC0WFndCAABAk2gWd0IAAAD5uhZ3QgAAwF4NF3dCAACAxF8Xd0IAAEAqshd3QgAAAJAEGHdCAADA9VYYd0IAAIBbqRh3QgAAQMH7GHdCAAAAJ04Zd0IAAMCMoBl3QgAAgPLyGXdCAABAWEUad0IAAAC+lxp3QgAAwCPqGndCAACAiTwbd0IAAEDvjht3QgAAAFXhG3dCAADAujMcd0IAAIAghhx3QgAAQIbYHHdCAAAA7Codd0IAAMBRfR13QgAAgLfPHXdCAABAHSIed0IAAACDdB53QgAAwOjGHndCAACAThkfd0IAAEC0ax93QgAAABq+H3dCAADAfxAgd0IAAIDlYiB3QgAAQEu1IHdCAAAAsQchd0IAAMAWWiF3QgAAgHysIXdCAABA4v4hd0IAAABIUSJ3QgAAwK2jIndCAACAE/Yid0IAAEB5SCN3QgAAAN+aI3dCAADARO0jd0IAAICqPyR3QgAAQBCSJHdCAAAAduQkd0IAAMDbNiV3QgAAgEGJJXdCAABAp9sld0IAAAANLiZ3QgAAwHKAJndCAACA2NImd0IAAEA+JSd3QgAAAKR3J3dCAADACcond0IAAIBvHCh3QgAAQNVuKHdCAAAAO8Eod0I=\",\"dtype\":\"float64\",\"order\":\"little\",\"shape\":[139]},\"y\":{\"__ndarray__\":\"35u9BOEkIEBwZ6ca/eweQHjFkth5RiBAT97tTYwdIEDmbLGtX3scQAx77GImCBxAOCmKPBquF0D0iqypND4ZQIVwGyVy6BhAdcbTUy3DFkBmDq+WmWkXQNwqkbGJORpAI9AHq7WFF0Cyrl8GdEYYQKVOl0WqihZA8BK+z59TF0AP9Uu/eF8ZQJcnMdCYbxdAIwV5d15UF0C4vSqmezYbQElXONuqCR5AuxqdTmSwHkC5BVskXtkeQBtaTdfihR1AKSFwxIstH0Bez6R73/geQELFQ3KF2hlATsaOBK18GECw/v+ZzFUYQJ/CXiZYOxhAyNCf7KxZGUCQ2aCM4RYYQO034A3tDxdAlcdOtQE9F0BQCwHlz8gWQEHngM7DRxdAu6wwhUuhFUC4rc8Rj48WQL2nmKIHpxVAU1xo7uV2E0AwsvbytlQWQFJ5SYkCtxZAuqzgd8mGF0BzIYOaQe4ZQMYTMofxuRhAhP6aWaphGUAWZdvOQuYaQF2/QcOpIxpAHSifI36rF0AOPlj2/gEWQLzhukCBxRNAXknjt8KhE0BfyN2//yYVQOBWf7F3fxVAw2kcmWYLFkBUe/sBKBMZQBr+DuxUDBxArgRe+s0hH0B+kKS3XRkgQI7Af6G0giBAXyYrxOyAIUAFLkOQN4AjQAWK2edi7iJAGhVsfsrYIkA0unoew44iQGdV6rHP7iJADoB5Hv23I0AAAAAAAAAkQA17sDyuZiJAnPMoSaSUIkAQpju/7AAiQOjROr6bLiFAlZyIzSa1IED6RX6jHXAeQBKvXuhWyhxA2E1JvSOVHUAHHbVmgLUeQNyquvc6JR9AVLd+RkmXH0Dzj0LGP6UeQBuJ1SXfZR9AFk2rOFs6H0BY84B+dc4cQFHpymP6txtATT/Ea3s4G0Cb+R736a4bQCiTyIKwOB1AJER7TC6wHUBXx6b3sH4eQKlAhAq6YCBA1dhN1tqzH0BFb66gOlAfQEAcAfUieSBAe+bUAuepH0Dp3EVIZf4eQK/Q6T43dx5ASiXEuwUEHkDU33pJYqofQET3mVNfgCBALkEJ9V+QH0ClT8Iwk6AgQNSW1GX9xR9AP8qcmKUQH0D+5/9i6MweQKZC/8ISoB5At60DrOm9HkBHPcgv8g8fQBDspb86cRxAnWNKSzbUHkB5C62jya8cQGqOF+odjx1AeEuZvzihG0BWJrERXQQaQG/NkIONpRdAdoMQ6wLXGEChPvvEnOoWQN9X0gmWZRlA56ASiXJ3F0Bmx/A7YFYYQJF8kYhl4hpAfblJIgsbHkAcTrilvqYaQP956CxuiRpAe2W0V1IfGkCZbDaViq4cQJrPMlLc0x9AGSw+BtZVIECvvRrcoYEfQH12WOG8rSFAG6TUE3pSIkAVksMH8iQiQOE1Wq5DwCBAK4+dLoc7HkAM6don5Y4bQM+v7LBCHhtAF7Us/TzfGkDdyuYkgz8YQBGgfYb05xhAaNlKs/jEG0A=\",\"dtype\":\"float64\",\"order\":\"little\",\"shape\":[139]}},\"selected\":{\"id\":\"7926\"},\"selection_policy\":{\"id\":\"7925\"}},\"id\":\"7902\",\"type\":\"ColumnDataSource\"},{\"attributes\":{\"data\":{\"x\":{\"__ndarray__\":\"AABAMF/7dkIAAMD7A/x2QgAAgGFW/HZCAABAx6j8dkIAAAAt+/x2QgAAwJJN/XZCAACA+J/9dkIAAEBe8v12QgAAAMRE/nZCAADAKZf+dkIAAICP6f52QgAAQPU7/3ZCAAAAW47/dkIAAMDA4P92QgAAgCYzAHdCAABAjIUAd0IAAADy1wB3QgAAwFcqAXdCAACAvXwBd0IAAEAjzwF3QgAAAIkhAndCAADA7nMCd0IAAIBUxgJ3QgAAQLoYA3dCAAAAIGsDd0IAAMCFvQN3QgAAgOsPBHdCAABAUWIEd0IAAAC3tAR3QgAAwBwHBXdCAACAglkFd0IAAEDoqwV3QgAAAE7+BXdCAADAs1AGd0IAAIAZowZ3QgAAQH/1BndCAAAA5UcHd0IAAMBKmgd3QgAAgLDsB3dCAABAFj8Id0IAAAB8kQh3QgAAwOHjCHdCAACARzYJd0IAAECtiAl3QgAAABPbCXdCAADAeC0Kd0IAAIDefwp3QgAAQETSCndCAAAAqiQLd0IAAMAPdwt3QgAAgHXJC3dCAABA2xsMd0IAAABBbgx3QgAAwKbADHdCAACADBMNd0IAAEByZQ13QgAAANi3DXdCAADAPQoOd0IAAICjXA53QgAAQAmvDndCAAAAbwEPd0IAAMDUUw93QgAAgDqmD3dCAABAoPgPd0IAAAAGSxB3QgAAwGudEHdCAACA0e8Qd0IAAEA3QhF3QgAAAJ2UEXdCAADAAucRd0IAAIBoORJ3QgAAQM6LEndCAAAANN4Sd0IAAMCZMBN3QgAAgP+CE3dCAABAZdUTd0IAAADLJxR3QgAAwDB6FHdCAACAlswUd0IAAED8HhV3QgAAAGJxFXdCAADAx8MVd0IAAIAtFhZ3QgAAQJNoFndCAAAA+boWd0IAAMBeDRd3QgAAgMRfF3dCAABAKrIXd0IAAACQBBh3QgAAwPVWGHdCAACAW6kYd0IAAEDB+xh3QgAAACdOGXdCAADAjKAZd0IAAIDy8hl3QgAAQFhFGndCAAAAvpcad0IAAMAj6hp3QgAAgIk8G3dCAABA744bd0IAAABV4Rt3QgAAwLozHHdCAACAIIYcd0IAAECG2Bx3QgAAAOwqHXdCAADAUX0dd0IAAIC3zx13QgAAQB0iHndCAAAAg3Qed0IAAMDoxh53QgAAgE4ZH3dCAABAtGsfd0IAAAAavh93QgAAwH8QIHdCAACA5WIgd0IAAEBLtSB3QgAAALEHIXdCAADAFlohd0IAAIB8rCF3QgAAQOL+IXdCAAAASFEid0IAAMCtoyJ3QgAAgBP2IndCAABAeUgjd0IAAADfmiN3QgAAwETtI3dCAACAqj8kd0IAAEAQkiR3QgAAAHbkJHdCAADA2zYld0IAAIBBiSV3QgAAQKfbJXdCAAAADS4md0IAAMBygCZ3QgAAgNjSJndCAABAPiUnd0IAAACkdyd3QgAAwAnKJ3dCAACAbxwod0IAAEDVbih3QgAAADvBKHdC\",\"dtype\":\"float64\",\"order\":\"little\",\"shape\":[141]},\"y\":{\"__ndarray__\":\"SZIkSZIkwT+2bdu2bdvGP0mSJEmSJNE/Pc/zPM/z1D/ctm3btm3fP0qSJEmSJOs/JUmSJEmS8j9KkiRJkiT7P6qqqqqqqv8///////9/AUDoeZ7neR4EQGEYhmEYBgZA//////9/BkC2bdu2bdsGQDAMwzAMQwZAeZ7neZ7nBUDatm3btm0FQHme53meZwNAJEmSJEmSAkBIkiRJkiQBQKqqqqqqqgBAJEmSJEmS/D/////////9P9q2bdu2bf8/MAzDMAxDAUDZtm3btm3/PyJJkiRJkvw/2bZt27Zt+j8WhmEYhmH7P+Z5nud5nvY/nOd5nud59D+oqqqqqqrwP3Se53me5+8/5Hme53me8T8tDMMwDMPzP7Nt27Zt2/Y/XhiGYRiG/T87z/M8z3MCQCRJkiRJkgdACsMwDMOwDEDO8zzP87wRQEiSJEmSpBNASJIkSZLkFEAMwzAMwzAVQD3P8zzPMxZAAQAAAACAFkDbtm3btu0XQAzDMAzDcBZAPc/zPM9zF0BWVVVVVZUYQCZJkiRJEhpA6nme53leGkA0DMMwDEMbQHye53mepxlA9jzP8zxPGkCUJEmSJIkZQLht27ZtmxpArKqqqqqqGkCe53me57kaQM7zPM/zPBlAJEmSJEkSGkBs27Zt27YZQHie53mepxlAqKqqqqoqGEBs27Zt2zYXQCJJkiRJUhZA/v////9/FkCPJEmSJMkVQPE8z/M8jxZAvzAMwzDMFkCmqqqqqqoVQIJhGIZhmBRAjSRJkiRJE0D7/////78SQCwMwzAMgxJA+/////9/EUAHwzAMw3ARQEWSJEmSZBJAFYZhGIahEkCCYRiGYZgUQKaqqqqqqhVA5Hme53meFkDvPM/zPA8ZQCwMwzAMQxtALAzDMAwDGkBEkiRJkiQbQCwMwzAMAxpAmud5nud5GUAUhmEYhuEYQKWqqqqq6hZAsm3btm1bFED6/////38WQEOSJEmSZBdAmOd5nuc5GEAeSZIkSRIaQFwYhmEYxhlAvjAMwzBMGUBEkiRJkuQZQNi2bdu27RdAFYZhGIZhFkDL8zzP83wVQEaSJEmSpBNAtG3btm1bFECQJEmSJIkUQHie53meZxNAR5IkSZKkE0CpqqqqqmoUQFRVVVVV1RRAbNu2bdu2FEDatm3bti0UQOZ5nud5HhRAYBiGYRjGFEAKwzAMw/ATQP7/////vxJAhGEYhmEYEkAvDMMwDIMSQBeGYRiGoRJA2rZt27atEUAXhmEYhmERQEiSJEmSJBFA8zzP8zyPEUD//////38RQG3btm3b9hBAPM/zPM8zEUCqqqqqquoRQCNJkiRJUhFA2rZt27atEUDatm3btq0RQCNJkiRJUhFAI0mSJEkSEEBGkiRJkqQNQC0MwzAMQwtALQzDMAzDCEDkeZ7neZ4GQI8kSZIkSQNAs23btm3bAUCPJEmSJEkDQDnP8zzPcwJAvzAMwzAMA0BdGIZhGIYDQLNt27ZtWwRA\",\"dtype\":\"float64\",\"order\":\"little\",\"shape\":[141]}},\"selected\":{\"id\":\"7838\"},\"selection_policy\":{\"id\":\"7837\"}},\"id\":\"7814\",\"type\":\"ColumnDataSource\"},{\"attributes\":{\"source\":{\"id\":\"7814\"}},\"id\":\"7818\",\"type\":\"CDSView\"},{\"attributes\":{},\"id\":\"7821\",\"type\":\"DatetimeTickFormatter\"},{\"attributes\":{\"active_drag\":\"auto\",\"active_inspect\":\"auto\",\"active_multi\":null,\"active_scroll\":\"auto\",\"active_tap\":\"auto\",\"tools\":[{\"id\":\"7888\"},{\"id\":\"7889\"},{\"id\":\"7890\"},{\"id\":\"7891\"},{\"id\":\"7892\"},{\"id\":\"7893\"}]},\"id\":\"7895\",\"type\":\"Toolbar\"},{\"attributes\":{\"label\":{\"value\":\"Twitter\"},\"renderers\":[{\"id\":\"7817\"}]},\"id\":\"7840\",\"type\":\"LegendItem\"},{\"attributes\":{},\"id\":\"7889\",\"type\":\"WheelZoomTool\"},{\"attributes\":{\"line_alpha\":0.1,\"line_color\":\"red\",\"x\":{\"field\":\"x\"},\"y\":{\"field\":\"y\"}},\"id\":\"7816\",\"type\":\"Line\"},{\"attributes\":{\"axis_label\":\"Time\",\"formatter\":{\"id\":\"7911\"},\"ticker\":{\"id\":\"7885\"}},\"id\":\"7884\",\"type\":\"LinearAxis\"},{\"attributes\":{\"overlay\":{\"id\":\"7894\"}},\"id\":\"7890\",\"type\":\"BoxZoomTool\"},{\"attributes\":{\"items\":[{\"id\":\"7840\"},{\"id\":\"7868\"}],\"location\":\"top_left\"},\"id\":\"7839\",\"type\":\"Legend\"},{\"attributes\":{},\"id\":\"7790\",\"type\":\"LinearScale\"},{\"attributes\":{\"num_minor_ticks\":5,\"tickers\":[{\"id\":\"7912\"},{\"id\":\"7913\"},{\"id\":\"7914\"},{\"id\":\"7915\"},{\"id\":\"7916\"},{\"id\":\"7917\"},{\"id\":\"7918\"},{\"id\":\"7919\"},{\"id\":\"7920\"},{\"id\":\"7921\"},{\"id\":\"7922\"},{\"id\":\"7923\"}]},\"id\":\"7881\",\"type\":\"DatetimeTicker\"},{\"attributes\":{\"line_color\":\"blue\",\"x\":{\"field\":\"x\"},\"y\":{\"field\":\"y\"}},\"id\":\"7903\",\"type\":\"Line\"},{\"attributes\":{\"label\":{\"value\":\"Media\"},\"renderers\":[{\"id\":\"7844\"}]},\"id\":\"7868\",\"type\":\"LegendItem\"},{\"attributes\":{},\"id\":\"7788\",\"type\":\"LinearScale\"},{\"attributes\":{},\"id\":\"7874\",\"type\":\"DataRange1d\"},{\"attributes\":{},\"id\":\"7866\",\"type\":\"UnionRenderers\"},{\"attributes\":{\"axis_label\":\"Sentiment\",\"formatter\":{\"id\":\"7909\"},\"ticker\":{\"id\":\"7881\"}},\"id\":\"7880\",\"type\":\"DatetimeAxis\"},{\"attributes\":{\"text\":\"Sentiment of Corona Related Articles\"},\"id\":\"7870\",\"type\":\"Title\"},{\"attributes\":{},\"id\":\"7797\",\"type\":\"BasicTicker\"},{\"attributes\":{},\"id\":\"7867\",\"type\":\"Selection\"},{\"attributes\":{},\"id\":\"7872\",\"type\":\"DataRange1d\"},{\"attributes\":{},\"id\":\"7805\",\"type\":\"HelpTool\"},{\"attributes\":{},\"id\":\"7876\",\"type\":\"LinearScale\"},{\"attributes\":{\"axis_label\":\"Scare\",\"formatter\":{\"id\":\"7821\"},\"ticker\":{\"id\":\"7793\"}},\"id\":\"7792\",\"type\":\"DatetimeAxis\"},{\"attributes\":{\"axis\":{\"id\":\"7880\"},\"grid_line_alpha\":0.3,\"ticker\":null},\"id\":\"7883\",\"type\":\"Grid\"},{\"attributes\":{},\"id\":\"7878\",\"type\":\"LinearScale\"},{\"attributes\":{\"num_minor_ticks\":5,\"tickers\":[{\"id\":\"7824\"},{\"id\":\"7825\"},{\"id\":\"7826\"},{\"id\":\"7827\"},{\"id\":\"7828\"},{\"id\":\"7829\"},{\"id\":\"7830\"},{\"id\":\"7831\"},{\"id\":\"7832\"},{\"id\":\"7833\"},{\"id\":\"7834\"},{\"id\":\"7835\"}]},\"id\":\"7793\",\"type\":\"DatetimeTicker\"},{\"attributes\":{},\"id\":\"7803\",\"type\":\"SaveTool\"},{\"attributes\":{},\"id\":\"7893\",\"type\":\"HelpTool\"},{\"attributes\":{\"axis\":{\"id\":\"7796\"},\"dimension\":1,\"grid_line_alpha\":0.3,\"ticker\":null},\"id\":\"7799\",\"type\":\"Grid\"},{\"attributes\":{},\"id\":\"7891\",\"type\":\"SaveTool\"},{\"attributes\":{\"data_source\":{\"id\":\"7814\"},\"glyph\":{\"id\":\"7815\"},\"hover_glyph\":null,\"muted_glyph\":null,\"nonselection_glyph\":{\"id\":\"7816\"},\"selection_glyph\":null,\"view\":{\"id\":\"7818\"}},\"id\":\"7817\",\"type\":\"GlyphRenderer\"},{\"attributes\":{\"mantissas\":[1,2,5],\"max_interval\":500.0,\"num_minor_ticks\":0},\"id\":\"7824\",\"type\":\"AdaptiveTicker\"},{\"attributes\":{},\"id\":\"7892\",\"type\":\"ResetTool\"},{\"attributes\":{\"axis_label\":\"Time\",\"formatter\":{\"id\":\"7823\"},\"ticker\":{\"id\":\"7797\"}},\"id\":\"7796\",\"type\":\"LinearAxis\"},{\"attributes\":{\"line_color\":\"green\",\"x\":{\"field\":\"x\"},\"y\":{\"field\":\"y\"}},\"id\":\"7842\",\"type\":\"Line\"},{\"attributes\":{},\"id\":\"7888\",\"type\":\"PanTool\"},{\"attributes\":{\"days\":[1,2,3,4,5,6,7,8,9,10,11,12,13,14,15,16,17,18,19,20,21,22,23,24,25,26,27,28,29,30,31]},\"id\":\"7827\",\"type\":\"DaysTicker\"},{\"attributes\":{\"data\":{\"x\":{\"__ndarray__\":\"AACAYVb8dkIAAEDHqPx2QgAAAC37/HZCAADAkk39dkIAAID4n/12QgAAQF7y/XZCAAAAxET+dkIAAMApl/52QgAAgI/p/nZCAABA9Tv/dkIAAABbjv92QgAAwMDg/3ZCAACAJjMAd0IAAECMhQB3QgAAAPLXAHdCAADAVyoBd0IAAIC9fAF3QgAAQCPPAXdCAAAAiSECd0IAAMDucwJ3QgAAgFTGAndCAABAuhgDd0IAAAAgawN3QgAAwIW9A3dCAACA6w8Ed0IAAEBRYgR3QgAAALe0BHdCAADAHAcFd0IAAICCWQV3QgAAQOirBXdCAAAATv4Fd0IAAMCzUAZ3QgAAgBmjBndCAABAf/UGd0IAAADlRwd3QgAAwEqaB3dCAACAsOwHd0IAAEAWPwh3QgAAAHyRCHdCAADA4eMId0IAAIBHNgl3QgAAQK2ICXdCAAAAE9sJd0IAAMB4LQp3QgAAgN5/CndCAABARNIKd0IAAACqJAt3QgAAwA93C3dCAACAdckLd0IAAEDbGwx3QgAAAEFuDHdCAADApsAMd0IAAIAMEw13QgAAQHJlDXdCAAAA2LcNd0IAAMA9Cg53QgAAgKNcDndCAABACa8Od0IAAABvAQ93QgAAwNRTD3dCAACAOqYPd0IAAECg+A93QgAAAAZLEHdCAADAa50Qd0IAAIDR7xB3QgAAQDdCEXdCAAAAnZQRd0IAAMAC5xF3QgAAgGg5EndCAABAzosSd0IAAAA03hJ3QgAAwJkwE3dCAACA/4ITd0IAAEBl1RN3QgAAAMsnFHdCAADAMHoUd0IAAICWzBR3QgAAQPweFXdCAAAAYnEVd0IAAMDHwxV3QgAAgC0WFndCAABAk2gWd0IAAAD5uhZ3QgAAwF4NF3dCAACAxF8Xd0IAAEAqshd3QgAAAJAEGHdCAADA9VYYd0IAAIBbqRh3QgAAQMH7GHdCAAAAJ04Zd0IAAMCMoBl3QgAAgPLyGXdCAABAWEUad0IAAAC+lxp3QgAAwCPqGndCAACAiTwbd0IAAEDvjht3QgAAAFXhG3dCAADAujMcd0IAAIAghhx3QgAAQIbYHHdCAAAA7Codd0IAAMBRfR13QgAAgLfPHXdCAABAHSIed0IAAACDdB53QgAAwOjGHndCAACAThkfd0IAAEC0ax93QgAAABq+H3dCAADAfxAgd0IAAIDlYiB3QgAAQEu1IHdCAAAAsQchd0IAAMAWWiF3QgAAgHysIXdCAABA4v4hd0IAAABIUSJ3QgAAwK2jIndCAACAE/Yid0IAAEB5SCN3QgAAAN+aI3dCAADARO0jd0IAAICqPyR3QgAAQBCSJHdCAAAAduQkd0IAAMDbNiV3QgAAgEGJJXdCAABAp9sld0IAAAANLiZ3QgAAwHKAJndCAACA2NImd0IAAEA+JSd3QgAAAKR3J3dCAADACcond0IAAIBvHCh3QgAAQNVuKHdCAAAAO8Eod0I=\",\"dtype\":\"float64\",\"order\":\"little\",\"shape\":[139]},\"y\":{\"__ndarray__\":\"b10dhM4V5T+wfxJ2aI3pP1VX5PxKUvU/mwTQYRyX+D95w5pW0lL6P5lrFK6Rxfw/JBZSg1JkAEBqCg7kKjEFQG+IK/qlUghAxe+PQOcfCUA+M10A4x4LQELCtWbghwtAYAiUFv2OC0AHl/hTgGwJQO1ezpCfHwZAHrfRjelXBEDFCe9sUroCQLrda8KCOQFAm2tJO+E5AkC0C47/nRj/P0Wb7+Vm1P4/SrZxgvMJAEAoOo9NpN7/P8DLNhswOABASzbzlsxy/z/hT0X1H3v/Pz5k6fGRLAJAbIQhOKHlAUBHz1G5s7oBQDmkUCSSUgJAGc930pBGAUCIhCM7ChYBQF2KiYCacAFAG506pNU1A0BpGy0xB7UIQH3u/5SO9AxAzumOWZCjEECDJxe1af8UQPL8l+QBzRhApAoCX5p6GkDL6Y104ssaQN3wN+g6zRlAV4RDpAFyGkC/EqwsxjMbQIDJ5roscxpAUhJbh4aRGkDBZeYbTo8aQANXkYzfhBpAVREpqZF6G0AJo9qi5rIbQLpKpy64sBtAAgKv8cXyG0CIv4R0V7obQEDN6HPI7RtAXZ7nPor4HEB6D+t/+y0eQHZnVKf5uR5AwICP5+raH0A63XUdxlcgQAPs8XgN9CBAvwAw4hklIUAGtXsP0ychQKtUHX9oNCFAqVpZPK7kIUBdd4YkNJ8hQIXEiQfZ0yFAzBxwTn0EIkBtufX9Ql0iQMFzau9hcyJAaY4JilneIkDcKT0QOY8iQEx6qIR7SSNANno2gwmTI0D+u0Duo8UjQNmIrC/j/iNAAAAAAAAAJEBZpt3VeLkjQLgFnx+smSNAs73d3B0AI0BEaJoodlYiQD0O0e+UHiJAH2YzVg/GIUAa+cACjYYhQOZOyd0mxCFA+S/G9lvoIUCAGT13sUAiQCSuLHXL2iJAHXnBVaiIIkB/tew0htUiQBT3Y/ywzSJAE+lezyZkIkDr7nYXGv8hQCsOfrNBCyJABaoGUETPIUCJki/j1aMhQIqN9Ho7jyFAYYZAnvJRIUCznVHsExwhQHbf1IIFlyFAn9trD8v6IEDbfOlQf7ggQAkNiE7QviBA8HEZ50p4H0C4nXQnCsMfQEWvsj7SjB9A+Jfc1wMPHkBqdH0ONowdQMPVWuEd8RxA6FUk4ecfHEAyf6Q1QWYdQP6GS9OciB1AlhpSwa5NHUDx/XNz0YsdQCj5Q2VlrB1AOwYVZS7GHUBaY3JHRSseQG7ryBPCLB5ALiHL1MDBHUB23ioReVgeQCtvmYQQ6x1AUoyb8HNWHUBvbw05p1YbQGiXh23dfRpACI6j0UlxGkA7PyDTZ1IaQCpq4RNSQxpALrBUfNyPGkCT0Yatu/QaQMTG9iVywBxAuSfkYEqdHEDbJEmMP88bQMXZzfNQPxtA1/+zIA9cGkAsyDOhGbYYQA08MndANxhATDP9o8ZPF0CjrG/6br4WQP14EfUqzRZAKxj0++91F0A=\",\"dtype\":\"float64\",\"order\":\"little\",\"shape\":[139]}},\"selected\":{\"id\":\"7867\"},\"selection_policy\":{\"id\":\"7866\"}},\"id\":\"7841\",\"type\":\"ColumnDataSource\"},{\"attributes\":{\"active_drag\":\"auto\",\"active_inspect\":\"auto\",\"active_multi\":null,\"active_scroll\":\"auto\",\"active_tap\":\"auto\",\"tools\":[{\"id\":\"7800\"},{\"id\":\"7801\"},{\"id\":\"7802\"},{\"id\":\"7803\"},{\"id\":\"7804\"},{\"id\":\"7805\"}]},\"id\":\"7807\",\"type\":\"Toolbar\"},{\"attributes\":{\"line_alpha\":0.1,\"line_color\":\"green\",\"x\":{\"field\":\"x\"},\"y\":{\"field\":\"y\"}},\"id\":\"7843\",\"type\":\"Line\"},{\"attributes\":{},\"id\":\"7801\",\"type\":\"WheelZoomTool\"},{\"attributes\":{\"source\":{\"id\":\"7841\"}},\"id\":\"7845\",\"type\":\"CDSView\"},{\"attributes\":{\"days\":[1,8,15,22]},\"id\":\"7829\",\"type\":\"DaysTicker\"},{\"attributes\":{\"bottom_units\":\"screen\",\"fill_alpha\":0.5,\"fill_color\":\"lightgrey\",\"left_units\":\"screen\",\"level\":\"overlay\",\"line_alpha\":1.0,\"line_color\":\"black\",\"line_dash\":[4,4],\"line_width\":2,\"right_units\":\"screen\",\"top_units\":\"screen\"},\"id\":\"7894\",\"type\":\"BoxAnnotation\"},{\"attributes\":{\"base\":24,\"mantissas\":[1,2,4,6,8,12],\"max_interval\":43200000.0,\"min_interval\":3600000.0,\"num_minor_ticks\":0},\"id\":\"7826\",\"type\":\"AdaptiveTicker\"},{\"attributes\":{\"days\":[1,4,7,10,13,16,19,22,25,28]},\"id\":\"7828\",\"type\":\"DaysTicker\"},{\"attributes\":{\"line_alpha\":0.1,\"line_color\":\"blue\",\"x\":{\"field\":\"x\"},\"y\":{\"field\":\"y\"}},\"id\":\"7904\",\"type\":\"Line\"},{\"attributes\":{\"overlay\":{\"id\":\"7806\"}},\"id\":\"7802\",\"type\":\"BoxZoomTool\"},{\"attributes\":{\"children\":[[{\"id\":\"7781\"},0,0],[{\"id\":\"7869\"},0,1]]},\"id\":\"9376\",\"type\":\"GridBox\"},{\"attributes\":{},\"id\":\"7804\",\"type\":\"ResetTool\"},{\"attributes\":{},\"id\":\"7800\",\"type\":\"PanTool\"},{\"attributes\":{},\"id\":\"7823\",\"type\":\"BasicTickFormatter\"},{\"attributes\":{\"base\":60,\"mantissas\":[1,2,5,10,15,20,30],\"max_interval\":1800000.0,\"min_interval\":1000.0,\"num_minor_ticks\":0},\"id\":\"7825\",\"type\":\"AdaptiveTicker\"},{\"attributes\":{\"toolbars\":[{\"id\":\"7807\"},{\"id\":\"7895\"}],\"tools\":[{\"id\":\"7800\"},{\"id\":\"7801\"},{\"id\":\"7802\"},{\"id\":\"7803\"},{\"id\":\"7804\"},{\"id\":\"7805\"},{\"id\":\"7888\"},{\"id\":\"7889\"},{\"id\":\"7890\"},{\"id\":\"7891\"},{\"id\":\"7892\"},{\"id\":\"7893\"}]},\"id\":\"9377\",\"type\":\"ProxyToolbar\"},{\"attributes\":{\"below\":[{\"id\":\"7880\"}],\"center\":[{\"id\":\"7883\"},{\"id\":\"7887\"},{\"id\":\"7927\"}],\"left\":[{\"id\":\"7884\"}],\"plot_height\":400,\"plot_width\":600,\"renderers\":[{\"id\":\"7905\"}],\"title\":{\"id\":\"7870\"},\"toolbar\":{\"id\":\"7895\"},\"toolbar_location\":null,\"x_range\":{\"id\":\"7872\"},\"x_scale\":{\"id\":\"7876\"},\"y_range\":{\"id\":\"7874\"},\"y_scale\":{\"id\":\"7878\"}},\"id\":\"7869\",\"subtype\":\"Figure\",\"type\":\"Plot\"},{\"attributes\":{\"items\":[{\"id\":\"7928\"}]},\"id\":\"7927\",\"type\":\"Legend\"},{\"attributes\":{\"label\":{\"value\":\"Sentiment\"},\"renderers\":[{\"id\":\"7905\"}]},\"id\":\"7928\",\"type\":\"LegendItem\"},{\"attributes\":{},\"id\":\"7909\",\"type\":\"DatetimeTickFormatter\"},{\"attributes\":{\"axis\":{\"id\":\"7884\"},\"dimension\":1,\"grid_line_alpha\":0.3,\"ticker\":null},\"id\":\"7887\",\"type\":\"Grid\"},{\"attributes\":{},\"id\":\"7925\",\"type\":\"UnionRenderers\"},{\"attributes\":{\"bottom_units\":\"screen\",\"fill_alpha\":0.5,\"fill_color\":\"lightgrey\",\"left_units\":\"screen\",\"level\":\"overlay\",\"line_alpha\":1.0,\"line_color\":\"black\",\"line_dash\":[4,4],\"line_width\":2,\"right_units\":\"screen\",\"top_units\":\"screen\"},\"id\":\"7806\",\"type\":\"BoxAnnotation\"},{\"attributes\":{},\"id\":\"7911\",\"type\":\"BasicTickFormatter\"},{\"attributes\":{\"days\":[1,8,15,22]},\"id\":\"7917\",\"type\":\"DaysTicker\"},{\"attributes\":{\"mantissas\":[1,2,5],\"max_interval\":500.0,\"num_minor_ticks\":0},\"id\":\"7912\",\"type\":\"AdaptiveTicker\"},{\"attributes\":{\"base\":60,\"mantissas\":[1,2,5,10,15,20,30],\"max_interval\":1800000.0,\"min_interval\":1000.0,\"num_minor_ticks\":0},\"id\":\"7913\",\"type\":\"AdaptiveTicker\"},{\"attributes\":{\"days\":[1,2,3,4,5,6,7,8,9,10,11,12,13,14,15,16,17,18,19,20,21,22,23,24,25,26,27,28,29,30,31]},\"id\":\"7915\",\"type\":\"DaysTicker\"},{\"attributes\":{\"base\":24,\"mantissas\":[1,2,4,6,8,12],\"max_interval\":43200000.0,\"min_interval\":3600000.0,\"num_minor_ticks\":0},\"id\":\"7914\",\"type\":\"AdaptiveTicker\"},{\"attributes\":{\"months\":[0,1,2,3,4,5,6,7,8,9,10,11]},\"id\":\"7919\",\"type\":\"MonthsTicker\"},{\"attributes\":{\"months\":[0,2,4,6,8,10]},\"id\":\"7920\",\"type\":\"MonthsTicker\"},{\"attributes\":{\"days\":[1,4,7,10,13,16,19,22,25,28]},\"id\":\"7916\",\"type\":\"DaysTicker\"},{\"attributes\":{\"days\":[1,15]},\"id\":\"7918\",\"type\":\"DaysTicker\"},{\"attributes\":{},\"id\":\"7923\",\"type\":\"YearsTicker\"},{\"attributes\":{\"months\":[0,6]},\"id\":\"7922\",\"type\":\"MonthsTicker\"},{\"attributes\":{\"months\":[0,4,8]},\"id\":\"7921\",\"type\":\"MonthsTicker\"},{\"attributes\":{},\"id\":\"7926\",\"type\":\"Selection\"}],\"root_ids\":[\"9379\"]},\"title\":\"Bokeh Application\",\"version\":\"2.2.1\"}};\n",
       "  var render_items = [{\"docid\":\"52e70f54-22d5-4d72-b6d4-6bb01c9ec1f6\",\"root_ids\":[\"9379\"],\"roots\":{\"9379\":\"af6e61c9-9b0a-469d-9a4e-74cac6e00c61\"}}];\n",
       "  root.Bokeh.embed.embed_items_notebook(docs_json, render_items);\n",
       "\n",
       "  }\n",
       "  if (root.Bokeh !== undefined) {\n",
       "    embed_document(root);\n",
       "  } else {\n",
       "    var attempts = 0;\n",
       "    var timer = setInterval(function(root) {\n",
       "      if (root.Bokeh !== undefined) {\n",
       "        clearInterval(timer);\n",
       "        embed_document(root);\n",
       "      } else {\n",
       "        attempts++;\n",
       "        if (attempts > 100) {\n",
       "          clearInterval(timer);\n",
       "          console.log(\"Bokeh: ERROR: Unable to run BokehJS code because BokehJS library is missing\");\n",
       "        }\n",
       "      }\n",
       "    }, 10, root)\n",
       "  }\n",
       "})(window);"
      ],
      "application/vnd.bokehjs_exec.v0+json": ""
     },
     "metadata": {
      "application/vnd.bokehjs_exec.v0+json": {
       "id": "9379"
      }
     },
     "output_type": "display_data"
    }
   ],
   "source": [
    "show(gridplot([[p1,p2]], plot_width=680, plot_height=600))  # open a browser"
   ]
  }
 ],
 "metadata": {
  "kernelspec": {
   "display_name": "Python 3",
   "language": "python",
   "name": "python3"
  },
  "language_info": {
   "codemirror_mode": {
    "name": "ipython",
    "version": 3
   },
   "file_extension": ".py",
   "mimetype": "text/x-python",
   "name": "python",
   "nbconvert_exporter": "python",
   "pygments_lexer": "ipython3",
   "version": "3.8.5"
  },
  "toc": {
   "base_numbering": 1,
   "nav_menu": {},
   "number_sections": true,
   "sideBar": true,
   "skip_h1_title": false,
   "title_cell": "Table of Contents",
   "title_sidebar": "Contents",
   "toc_cell": false,
   "toc_position": {},
   "toc_section_display": true,
   "toc_window_display": false
  }
 },
 "nbformat": 4,
 "nbformat_minor": 4
}
