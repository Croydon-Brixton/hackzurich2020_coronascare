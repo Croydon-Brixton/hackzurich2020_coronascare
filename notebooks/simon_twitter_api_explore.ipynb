{
 "cells": [
  {
   "cell_type": "markdown",
   "metadata": {},
   "source": [
    "# Imports"
   ]
  },
  {
   "cell_type": "code",
   "execution_count": 12,
   "metadata": {
    "ExecuteTime": {
     "end_time": "2020-09-19T09:16:22.385430Z",
     "start_time": "2020-09-19T09:16:22.381665Z"
    }
   },
   "outputs": [],
   "source": [
    "import os\n",
    "import sys\n",
    "import glob\n",
    "\n",
    "import pandas as pd\n",
    "import tweepy\n",
    "\n",
    "# Add source folder\n",
    "sys.path.append(os.path.abspath(\"..\"))\n",
    "\n",
    "# Load constants\n",
    "from src.constants import DATA_PATH, TWITTER_AUTH"
   ]
  },
  {
   "cell_type": "markdown",
   "metadata": {},
   "source": [
    "# Twitter API Setup"
   ]
  },
  {
   "cell_type": "code",
   "execution_count": 4,
   "metadata": {
    "ExecuteTime": {
     "end_time": "2020-09-19T09:08:03.671786Z",
     "start_time": "2020-09-19T09:08:03.667461Z"
    }
   },
   "outputs": [],
   "source": [
    "# Set up twitter API access\n",
    "auth = tweepy.OAuthHandler(TWITTER_AUTH[\"API_KEY\"], TWITTER_AUTH[\"API_SECRET\"])\n",
    "auth.set_access_token(TWITTER_AUTH[\"ACCESS_TOKEN\"], TWITTER_AUTH[\"ACCESS_TOKEN_SECRET\"])\n",
    "\n",
    "api = tweepy.API(auth)"
   ]
  },
  {
   "cell_type": "markdown",
   "metadata": {},
   "source": [
    "# Load crowdbreaks data"
   ]
  },
  {
   "cell_type": "code",
   "execution_count": 9,
   "metadata": {
    "ExecuteTime": {
     "end_time": "2020-09-19T09:11:32.410542Z",
     "start_time": "2020-09-19T09:11:32.407937Z"
    }
   },
   "outputs": [],
   "source": [
    "TWITTER_PATH = os.path.join(DATA_PATH, \"srf_data\", \"Twitter\")\n",
    "geo_tweets, place_tweets = glob.glob(TWITTER_PATH + \"/*.csv\")"
   ]
  },
  {
   "cell_type": "code",
   "execution_count": 21,
   "metadata": {
    "ExecuteTime": {
     "end_time": "2020-09-19T09:22:19.836808Z",
     "start_time": "2020-09-19T09:22:19.833827Z"
    }
   },
   "outputs": [],
   "source": [
    "geo_tweets, place_tweets = glob.glob(TWITTER_PATH + \"/*.csv\")"
   ]
  },
  {
   "cell_type": "code",
   "execution_count": 24,
   "metadata": {
    "ExecuteTime": {
     "end_time": "2020-09-19T09:27:21.371548Z",
     "start_time": "2020-09-19T09:27:21.297392Z"
    }
   },
   "outputs": [
    {
     "data": {
      "text/html": [
       "<div>\n",
       "<style scoped>\n",
       "    .dataframe tbody tr th:only-of-type {\n",
       "        vertical-align: middle;\n",
       "    }\n",
       "\n",
       "    .dataframe tbody tr th {\n",
       "        vertical-align: top;\n",
       "    }\n",
       "\n",
       "    .dataframe thead th {\n",
       "        text-align: right;\n",
       "    }\n",
       "</style>\n",
       "<table border=\"1\" class=\"dataframe\">\n",
       "  <thead>\n",
       "    <tr style=\"text-align: right;\">\n",
       "      <th></th>\n",
       "      <th>created_at</th>\n",
       "      <th>id</th>\n",
       "      <th>longitude</th>\n",
       "      <th>latitude</th>\n",
       "    </tr>\n",
       "  </thead>\n",
       "  <tbody>\n",
       "    <tr>\n",
       "      <th>0</th>\n",
       "      <td>2015-04-19</td>\n",
       "      <td>589801611528110080</td>\n",
       "      <td>-2.236668</td>\n",
       "      <td>53.489791</td>\n",
       "    </tr>\n",
       "    <tr>\n",
       "      <th>1</th>\n",
       "      <td>2020-02-28</td>\n",
       "      <td>1233180166475538432</td>\n",
       "      <td>12.361999</td>\n",
       "      <td>55.733902</td>\n",
       "    </tr>\n",
       "    <tr>\n",
       "      <th>2</th>\n",
       "      <td>2020-02-28</td>\n",
       "      <td>1233180649617362944</td>\n",
       "      <td>100.655078</td>\n",
       "      <td>13.862001</td>\n",
       "    </tr>\n",
       "    <tr>\n",
       "      <th>3</th>\n",
       "      <td>2020-02-28</td>\n",
       "      <td>1233181786567372800</td>\n",
       "      <td>-121.570533</td>\n",
       "      <td>37.007482</td>\n",
       "    </tr>\n",
       "    <tr>\n",
       "      <th>4</th>\n",
       "      <td>2020-02-28</td>\n",
       "      <td>1233182725793775616</td>\n",
       "      <td>-0.124314</td>\n",
       "      <td>51.530085</td>\n",
       "    </tr>\n",
       "    <tr>\n",
       "      <th>...</th>\n",
       "      <td>...</td>\n",
       "      <td>...</td>\n",
       "      <td>...</td>\n",
       "      <td>...</td>\n",
       "    </tr>\n",
       "    <tr>\n",
       "      <th>97194</th>\n",
       "      <td>2020-02-04</td>\n",
       "      <td>1224828739952902144</td>\n",
       "      <td>116.433105</td>\n",
       "      <td>40.151588</td>\n",
       "    </tr>\n",
       "    <tr>\n",
       "      <th>97195</th>\n",
       "      <td>2020-02-04</td>\n",
       "      <td>1224831036632203265</td>\n",
       "      <td>103.000000</td>\n",
       "      <td>35.000000</td>\n",
       "    </tr>\n",
       "    <tr>\n",
       "      <th>97196</th>\n",
       "      <td>2020-02-04</td>\n",
       "      <td>1224834272285978625</td>\n",
       "      <td>-112.047290</td>\n",
       "      <td>33.068250</td>\n",
       "    </tr>\n",
       "    <tr>\n",
       "      <th>97197</th>\n",
       "      <td>2020-02-04</td>\n",
       "      <td>1224835664044150786</td>\n",
       "      <td>116.520996</td>\n",
       "      <td>40.017098</td>\n",
       "    </tr>\n",
       "    <tr>\n",
       "      <th>97198</th>\n",
       "      <td>2020-02-04</td>\n",
       "      <td>1224835662878167040</td>\n",
       "      <td>116.520996</td>\n",
       "      <td>40.017098</td>\n",
       "    </tr>\n",
       "  </tbody>\n",
       "</table>\n",
       "<p>97199 rows × 4 columns</p>\n",
       "</div>"
      ],
      "text/plain": [
       "       created_at                   id   longitude   latitude\n",
       "0      2015-04-19   589801611528110080   -2.236668  53.489791\n",
       "1      2020-02-28  1233180166475538432   12.361999  55.733902\n",
       "2      2020-02-28  1233180649617362944  100.655078  13.862001\n",
       "3      2020-02-28  1233181786567372800 -121.570533  37.007482\n",
       "4      2020-02-28  1233182725793775616   -0.124314  51.530085\n",
       "...           ...                  ...         ...        ...\n",
       "97194  2020-02-04  1224828739952902144  116.433105  40.151588\n",
       "97195  2020-02-04  1224831036632203265  103.000000  35.000000\n",
       "97196  2020-02-04  1224834272285978625 -112.047290  33.068250\n",
       "97197  2020-02-04  1224835664044150786  116.520996  40.017098\n",
       "97198  2020-02-04  1224835662878167040  116.520996  40.017098\n",
       "\n",
       "[97199 rows x 4 columns]"
      ]
     },
     "execution_count": 24,
     "metadata": {},
     "output_type": "execute_result"
    }
   ],
   "source": [
    "pd.read_csv(geo_tweets)"
   ]
  },
  {
   "cell_type": "markdown",
   "metadata": {},
   "source": [
    "# Rehydrate"
   ]
  },
  {
   "cell_type": "markdown",
   "metadata": {},
   "source": [
    "# Test"
   ]
  },
  {
   "cell_type": "code",
   "execution_count": 3,
   "metadata": {
    "ExecuteTime": {
     "end_time": "2020-09-19T09:07:24.015491Z",
     "start_time": "2020-09-19T09:07:23.777082Z"
    }
   },
   "outputs": [],
   "source": [
    "sample_tweet = api.get_status(1233180166475538432)"
   ]
  },
  {
   "cell_type": "code",
   "execution_count": 29,
   "metadata": {
    "ExecuteTime": {
     "end_time": "2020-09-19T08:58:57.011371Z",
     "start_time": "2020-09-19T08:58:57.005759Z"
    }
   },
   "outputs": [
    {
     "data": {
      "text/plain": [
       "{'type': 'Point', 'coordinates': [55.7339021, 12.3619992]}"
      ]
     },
     "execution_count": 29,
     "metadata": {},
     "output_type": "execute_result"
    }
   ],
   "source": [
    "sample_tweet.geo"
   ]
  },
  {
   "cell_type": "code",
   "execution_count": null,
   "metadata": {},
   "outputs": [],
   "source": []
  }
 ],
 "metadata": {
  "kernelspec": {
   "display_name": "Python 3",
   "language": "python",
   "name": "python3"
  },
  "language_info": {
   "codemirror_mode": {
    "name": "ipython",
    "version": 3
   },
   "file_extension": ".py",
   "mimetype": "text/x-python",
   "name": "python",
   "nbconvert_exporter": "python",
   "pygments_lexer": "ipython3",
   "version": "3.8.5"
  }
 },
 "nbformat": 4,
 "nbformat_minor": 4
}
