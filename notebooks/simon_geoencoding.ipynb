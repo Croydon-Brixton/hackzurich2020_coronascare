{
 "cells": [
  {
   "cell_type": "code",
   "execution_count": 21,
   "metadata": {
    "ExecuteTime": {
     "end_time": "2020-09-19T10:16:17.949898Z",
     "start_time": "2020-09-19T10:16:17.946664Z"
    }
   },
   "outputs": [],
   "source": [
    "import os\n",
    "import sys\n",
    "\n",
    "# Add source folder\n",
    "sys.path.append(os.path.abspath(\"..\"))\n",
    "sys.path.append(os.path.abspath(\"../src/processing/local-geocode\"))\n",
    "\n",
    "# Load constants\n",
    "from src.constants import DATA_PATH"
   ]
  },
  {
   "cell_type": "markdown",
   "metadata": {},
   "source": [
    "# Using Geocode"
   ]
  },
  {
   "cell_type": "code",
   "execution_count": 22,
   "metadata": {
    "ExecuteTime": {
     "end_time": "2020-09-19T10:16:18.150806Z",
     "start_time": "2020-09-19T10:16:18.147978Z"
    }
   },
   "outputs": [],
   "source": [
    "from geocode.geocode import Geocode\n",
    "\n",
    "geocoder = Geocode()\n",
    "geocoder.init()"
   ]
  },
  {
   "cell_type": "markdown",
   "metadata": {},
   "source": [
    "## single cpu"
   ]
  },
  {
   "cell_type": "code",
   "execution_count": 23,
   "metadata": {
    "ExecuteTime": {
     "end_time": "2020-09-19T10:16:31.693211Z",
     "start_time": "2020-09-19T10:16:18.342456Z"
    }
   },
   "outputs": [],
   "source": [
    "geocoder.decode(\"zurich\")"
   ]
  },
  {
   "cell_type": "markdown",
   "metadata": {},
   "source": [
    "## multi cpu"
   ]
  },
  {
   "cell_type": "code",
   "execution_count": 72,
   "metadata": {
    "ExecuteTime": {
     "end_time": "2020-09-19T10:44:28.446947Z",
     "start_time": "2020-09-19T10:44:15.085017Z"
    },
    "scrolled": true
   },
   "outputs": [
    {
     "name": "stderr",
     "output_type": "stream",
     "text": [
      "2020-09-19 10:44:15,873 [INFO ] [geocode.geoc]: Running decode in parallel with 4 cores\n",
      "100%|██████████| 4/4 [00:00<00:00, 30.58it/s]\n"
     ]
    },
    {
     "data": {
      "text/plain": [
       "[[{'name': 'Zurich',\n",
       "   'country_code': 'CH',\n",
       "   'longitude': 8.66667,\n",
       "   'latitude': 47.41667}],\n",
       " [{'name': 'Basel',\n",
       "   'country_code': 'CH',\n",
       "   'longitude': 7.593610000000001,\n",
       "   'latitude': 47.55773}],\n",
       " [{'name': 'Sarnen',\n",
       "   'country_code': 'CH',\n",
       "   'longitude': 8.17646,\n",
       "   'latitude': 46.89845}],\n",
       " [{'name': 'Giswil',\n",
       "   'country_code': 'CH',\n",
       "   'longitude': 8.118839999999999,\n",
       "   'latitude': 46.83586}],\n",
       " [{'name': 'Goldach',\n",
       "   'country_code': 'CH',\n",
       "   'longitude': 9.46787,\n",
       "   'latitude': 47.47364}],\n",
       " [{'name': 'Gruet',\n",
       "   'country_code': 'CH',\n",
       "   'longitude': 8.783389999999999,\n",
       "   'latitude': 47.31151}],\n",
       " [{'name': 'Bregenz',\n",
       "   'country_code': 'AT',\n",
       "   'longitude': 9.919889999999999,\n",
       "   'latitude': 47.42069}]]"
      ]
     },
     "execution_count": 72,
     "metadata": {},
     "output_type": "execute_result"
    }
   ],
   "source": [
    "locations = [\"zurich\", \"basel\", \"sarnen\", \"giswil\", \"goldach\", \"gruet\", \"bregenz\"]\n",
    "geocoder.decode_parallel(locations, num_cpus=4)"
   ]
  },
  {
   "cell_type": "markdown",
   "metadata": {},
   "source": [
    "# Get list of all places in Switzerland"
   ]
  },
  {
   "cell_type": "code",
   "execution_count": 61,
   "metadata": {
    "ExecuteTime": {
     "end_time": "2020-09-19T10:40:24.439691Z",
     "start_time": "2020-09-19T10:40:12.880710Z"
    }
   },
   "outputs": [],
   "source": [
    "import joblib\n",
    "geonames = joblib.load(\"/tmp/local_geocode/geonames.pkl\")\n",
    "\n",
    "places_in_switzerland = []\n",
    "for place in geonames:\n",
    "    if place[1] == \"CH\":\n",
    "        places_in_switzerland.append(place)\n",
    "\n",
    "swiss_places = {entry[0] : tuple(entry[1:]) for entry in places_in_switzerland}\n",
    "global_places = {entry[0] : tuple(entry[1:]) for entry in geonames}\n",
    "\n",
    "# Save\n",
    "#joblib.dump(swiss_places, \"/mnt/data/location_data/swiss_places.pkl\")\n",
    "#joblib.dump(global_places, \"/mnt/data/location_data/global_places.pkl\")"
   ]
  }
 ],
 "metadata": {
  "hide_input": false,
  "kernelspec": {
   "display_name": "Python 3",
   "language": "python",
   "name": "python3"
  },
  "language_info": {
   "codemirror_mode": {
    "name": "ipython",
    "version": 3
   },
   "file_extension": ".py",
   "mimetype": "text/x-python",
   "name": "python",
   "nbconvert_exporter": "python",
   "pygments_lexer": "ipython3",
   "version": "3.8.5"
  },
  "toc": {
   "base_numbering": 1,
   "nav_menu": {},
   "number_sections": true,
   "sideBar": true,
   "skip_h1_title": false,
   "title_cell": "Table of Contents",
   "title_sidebar": "Contents",
   "toc_cell": false,
   "toc_position": {},
   "toc_section_display": true,
   "toc_window_display": false
  }
 },
 "nbformat": 4,
 "nbformat_minor": 4
}
