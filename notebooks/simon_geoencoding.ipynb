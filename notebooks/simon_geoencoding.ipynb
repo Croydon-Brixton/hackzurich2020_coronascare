{
 "cells": [
  {
   "cell_type": "code",
   "execution_count": 1,
   "metadata": {
    "ExecuteTime": {
     "end_time": "2020-09-19T16:06:49.242586Z",
     "start_time": "2020-09-19T16:06:48.934224Z"
    }
   },
   "outputs": [],
   "source": [
    "import os\n",
    "import sys\n",
    "import logging as log\n",
    "import urllib\n",
    "import zipfile\n",
    "import pandas as pd\n",
    "import joblib\n",
    "\n",
    "# Add source folder\n",
    "sys.path.append(os.path.abspath(\"..\"))\n",
    "sys.path.append(os.path.abspath(\"../src/processing/local-geocode\"))\n",
    "\n",
    "# Load constants\n",
    "from src.constants import DATA_PATH, LOCATION_PATH"
   ]
  },
  {
   "cell_type": "markdown",
   "metadata": {
    "heading_collapsed": true
   },
   "source": [
    "# Download geonames data"
   ]
  },
  {
   "cell_type": "code",
   "execution_count": null,
   "metadata": {
    "ExecuteTime": {
     "end_time": "2020-09-19T11:28:16.308736Z",
     "start_time": "2020-09-19T11:27:57.159904Z"
    },
    "hidden": true
   },
   "outputs": [],
   "source": [
    "# download file\n",
    "url = 'https://download.geonames.org/export/dump/allCountries.zip'\n",
    "log.info(f'Downloading data from {url}')\n",
    "geonames_data_path_zip = os.path.join(LOCATION_PATH, \"geonames_data_allCountries.zip\")\n",
    "urllib.request.urlretrieve(url, geonames_data_path_zip)\n",
    "log.info(f'... done')\n",
    "log.info('Extracting data...')\n",
    "# extract\n",
    "with zipfile.ZipFile(geonames_data_path_zip, 'r') as f:\n",
    "    f.extractall(LOCATION_PATH)\n",
    "log.info('...done')\n",
    "# remove zip file\n",
    "#os.remove(geonames_data_path_zip)"
   ]
  },
  {
   "cell_type": "code",
   "execution_count": null,
   "metadata": {
    "ExecuteTime": {
     "end_time": "2020-09-19T11:36:34.244635Z",
     "start_time": "2020-09-19T11:36:06.797270Z"
    },
    "hidden": true
   },
   "outputs": [],
   "source": [
    "dtypes = {'name': str, 'latitude': float, 'longitude': float, 'country_code': str, 'population': int, 'feature_code': str, 'alternatenames': str,  \"feature_class\": str, \"asciiname\": str, \"admin1\":str, \"cc2\": str}\n",
    "geonames_columns = ['geonameid', 'name', 'asciiname', 'alternatenames', 'latitude', 'longitude', 'feature_class', 'feature_code', 'country_code', 'cc2', 'admin1', 'admin2', 'admin3', 'admin4', 'population', 'elevation', 'dem', 'timezone', 'modification_date']\n",
    "\n",
    "geonames_data_path = os.path.join(LOCATION_PATH, \"allCountries.txt\")\n",
    "df = pd.read_csv(geonames_data_path, names=geonames_columns, sep='\\t', dtype=dtypes, usecols=dtypes.keys())"
   ]
  },
  {
   "cell_type": "code",
   "execution_count": null,
   "metadata": {
    "ExecuteTime": {
     "end_time": "2020-09-19T11:39:00.319514Z",
     "start_time": "2020-09-19T11:38:30.575552Z"
    },
    "hidden": true,
    "scrolled": true
   },
   "outputs": [],
   "source": [
    "joblib.dump(df, os.path.join(LOCATION_PATH, \"all_locations.pkl\"))"
   ]
  },
  {
   "cell_type": "markdown",
   "metadata": {
    "heading_collapsed": true
   },
   "source": [
    "# Using Geocode"
   ]
  },
  {
   "cell_type": "code",
   "execution_count": null,
   "metadata": {
    "ExecuteTime": {
     "end_time": "2020-09-19T11:27:30.247066Z",
     "start_time": "2020-09-19T11:27:21.810836Z"
    },
    "hidden": true
   },
   "outputs": [],
   "source": [
    "from geocode.geocode import Geocode\n",
    "\n",
    "geocoder = Geocode()\n",
    "geocoder.init()"
   ]
  },
  {
   "cell_type": "markdown",
   "metadata": {
    "heading_collapsed": true,
    "hidden": true
   },
   "source": [
    "## single cpu"
   ]
  },
  {
   "cell_type": "code",
   "execution_count": null,
   "metadata": {
    "ExecuteTime": {
     "end_time": "2020-09-19T11:29:06.462148Z",
     "start_time": "2020-09-19T11:29:06.456739Z"
    },
    "hidden": true
   },
   "outputs": [],
   "source": [
    "geocoder.decode(\"Ich war heute in zurich und habe eine Pizza gegessen\")"
   ]
  },
  {
   "cell_type": "markdown",
   "metadata": {
    "hidden": true
   },
   "source": [
    "## multi cpu"
   ]
  },
  {
   "cell_type": "code",
   "execution_count": null,
   "metadata": {
    "ExecuteTime": {
     "end_time": "2020-09-19T10:44:28.446947Z",
     "start_time": "2020-09-19T10:44:15.085017Z"
    },
    "hidden": true,
    "scrolled": true
   },
   "outputs": [],
   "source": [
    "locations = [\"zurich\", \"basel\", \"sarnen\", \"giswil\", \"goldach\", \"gruet\", \"bregenz\"]\n",
    "geocoder.decode_parallel(locations, num_cpus=4)"
   ]
  },
  {
   "cell_type": "code",
   "execution_count": null,
   "metadata": {
    "ExecuteTime": {
     "end_time": "2020-09-19T10:40:24.439691Z",
     "start_time": "2020-09-19T10:40:12.880710Z"
    },
    "hidden": true
   },
   "outputs": [],
   "source": [
    "geonames = joblib.load(\"/tmp/local_geocode/geonames.pkl\")\n",
    "\n",
    "places_in_switzerland = []\n",
    "for place in geonames:\n",
    "    if place[1] == \"CH\":\n",
    "        places_in_switzerland.append(place)\n",
    "\n",
    "swiss_places = {entry[0] : tuple(entry[1:]) for entry in places_in_switzerland}\n",
    "global_places = {entry[0] : tuple(entry[1:]) for entry in geonames}\n",
    "\n",
    "# Save\n",
    "#joblib.dump(swiss_places, \"/mnt/data/location_data/swiss_places.pkl\")\n",
    "#joblib.dump(global_places, \"/mnt/data/location_data/global_places.pkl\")"
   ]
  },
  {
   "cell_type": "markdown",
   "metadata": {},
   "source": [
    "# Hierarchical processing of places in Switzerland"
   ]
  },
  {
   "cell_type": "code",
   "execution_count": 2,
   "metadata": {
    "ExecuteTime": {
     "end_time": "2020-09-19T12:58:15.127296Z",
     "start_time": "2020-09-19T12:57:54.422363Z"
    }
   },
   "outputs": [],
   "source": [
    "df = joblib.load(os.path.join(LOCATION_PATH, \"archive\", \"all_locations.pkl\"))"
   ]
  },
  {
   "cell_type": "markdown",
   "metadata": {},
   "source": [
    "### Filter locations for countries, towns and admin areas and preprocess"
   ]
  },
  {
   "cell_type": "code",
   "execution_count": 5,
   "metadata": {
    "ExecuteTime": {
     "end_time": "2020-09-19T12:59:07.396573Z",
     "start_time": "2020-09-19T12:58:52.350010Z"
    }
   },
   "outputs": [],
   "source": [
    "population_thres = 200\n",
    "\n",
    "def is_ascii(s):\n",
    "    try:\n",
    "        s.encode(encoding='utf-8').decode('ascii')\n",
    "    except UnicodeDecodeError:\n",
    "        return False\n",
    "    else:\n",
    "        return True\n",
    "    \n",
    "log.info('Transforming geonames data...')\n",
    "log.info('Reading geo data...')\n",
    "# select places with a population greater zero\n",
    "df = df[(df.population > population_thres) | (df.feature_code == 'PCLI')]\n",
    "# get rid of administrative zones without country codes (e.g. \"The Commonwealth\")\n",
    "df = df[~df.country_code.isnull()]\n",
    "# select places with feature class A (admin) and P (place)\n",
    "df = df[df.feature_class.isin(['A', 'P'])]\n",
    "# expand alternate names\n",
    "df.loc[:, 'alternatenames'] = df.alternatenames.str.split(',')\n",
    "df['is_altname'] = False\n",
    "_df = df.explode('alternatenames')\n",
    "_df['name'] = _df['alternatenames']\n",
    "_df['is_altname'] = True\n",
    "df = pd.concat([df, _df])\n",
    "# Remove all names that are floats/ints\n",
    "df['is_str'] = df.name.apply(lambda s: isinstance(s, str))\n",
    "df = df[df['is_str']]\n",
    "# Levels of priority:\n",
    "# 1) Prioritize large cities (population size > large_city_population_cutoff)\n",
    "# 2) Admin areas\n",
    "# 3) Places\n",
    "# Within each group we will sort according to population size\n",
    "log.info('Sorting by priority...')\n",
    "feature_code_priorities = ['A', 'P']\n",
    "feature_code_priorities = {k: i+1 for i, k in enumerate(feature_code_priorities)}\n",
    "df['priority'] = df.feature_class.apply(lambda code: feature_code_priorities[code])\n",
    "# Only allow 2 character names in specific cases\n",
    "# - Name is non-ascii (e.g. Chinese characters)\n",
    "# - Is an alternative name for a country (e.g. UK)\n",
    "# - Is a US state or Canadian province\n",
    "df['is_ascii'] = df.name.apply(is_ascii)\n",
    "df['is_country'] = df.feature_code.str.startswith('PCL')\n",
    "df = df[\n",
    "        (~df.is_ascii) | \n",
    "        (df.name.str.len() > 2) | \n",
    "        ((df.name.str.len() == 2) & (df.country_code == 'US')) |\n",
    "        ((df.name.str.len() == 2) & (df.country_code == 'CA')) |\n",
    "        ((df.name.str.len() == 2) & (df.is_country))\n",
    "        ]\n",
    "# add \"US\" manually since it's missing in geonames\n",
    "row_usa = df[df.is_country & (df.name == 'USA')].iloc[0]\n",
    "row_usa['name'] = 'US'\n",
    "df = df.append(row_usa)\n",
    "# sort by priorities and drop name duplicates (this way we will keep only the high priority elements)\n",
    "df.sort_values(by=['priority', 'population'], ascending=[True, False], inplace=True)\n",
    "df['name_lower'] = df.name.str.lower()\n",
    "df = df.drop_duplicates('name_lower', keep='first')\n",
    "log.info(f'... collected a total of {len(df):,} names of places and countries')\n",
    "\n",
    "\n",
    "# Save filtered data\n",
    "#joblib.dump(swiss_data, os.path.join(LOCATION_PATH, \"global_location_df.pkl\"))\n",
    "#joblib.dump(df, os.path.join(LOCATION_PATH, \"global_location_df.pkl\"))"
   ]
  },
  {
   "cell_type": "markdown",
   "metadata": {},
   "source": [
    "### Extra priority granularity in Switzerland"
   ]
  },
  {
   "cell_type": "code",
   "execution_count": 56,
   "metadata": {
    "ExecuteTime": {
     "end_time": "2020-09-19T13:13:33.690208Z",
     "start_time": "2020-09-19T13:13:33.673415Z"
    }
   },
   "outputs": [],
   "source": [
    "# Design extra priorities within Switzerland\n",
    "swiss_data = df[df['country_code'] == 'CH']\n",
    "\n",
    "# 1. Extract swiss country lvl location data\n",
    "swiss_country = swiss_data[swiss_data.is_country]\n",
    "\n",
    "# 2. Extract swiss admin areas\n",
    "swiss_administrative_areas = swiss_data[\n",
    "    (swiss_data[\"feature_class\"] == \"A\") & \n",
    "    (swiss_data.is_country == False)\n",
    "]\n",
    "swiss_administrative_areas = swiss_administrative_areas.sort_values(by=\"population\", inplace=False)\n",
    "\n",
    "# 3. Extract swiss towns\n",
    "swiss_towns = swiss_data[swiss_data[\"feature_class\"] == \"P\"]\n",
    "\n",
    "# Combine in list\n",
    "location_dfs = [swiss_country_lvl, swiss_administrative_areas, swiss_towns]"
   ]
  },
  {
   "cell_type": "code",
   "execution_count": 94,
   "metadata": {
    "ExecuteTime": {
     "end_time": "2020-09-19T13:21:44.654554Z",
     "start_time": "2020-09-19T13:21:43.360155Z"
    }
   },
   "outputs": [],
   "source": [
    "# Turn data into dictionaries that can be used with keywordsearch\n",
    "swiss_country = {}\n",
    "swiss_admin_areas = {}\n",
    "swiss_towns = {}\n",
    "\n",
    "swiss_dicts = [swiss_country, swiss_admin_areas, swiss_towns]\n",
    "\n",
    "for loc_dict, loc_df in zip(swiss_dicts, location_dfs):\n",
    "    \n",
    "    for idx, row in loc_df.iterrows():\n",
    "        loc_dict[row[\"name\"]] = (row.latitude, row.longitude, row.admin1, row.population, row.feature_code)"
   ]
  },
  {
   "cell_type": "code",
   "execution_count": 100,
   "metadata": {
    "ExecuteTime": {
     "end_time": "2020-09-19T13:24:39.778020Z",
     "start_time": "2020-09-19T13:24:39.545139Z"
    }
   },
   "outputs": [
    {
     "data": {
      "text/plain": [
       "['/mnt/data/location_data/swiss_towns_dict.pkl']"
      ]
     },
     "execution_count": 100,
     "metadata": {},
     "output_type": "execute_result"
    }
   ],
   "source": [
    "# Save\n",
    "joblib.dump(swiss_country, os.path.join(LOCATION_PATH, \"swiss_country_dict.pkl\"))\n",
    "joblib.dump(swiss_admin_areas, os.path.join(LOCATION_PATH, \"swiss_adminareas_dict.pkl\"))\n",
    "joblib.dump(swiss_towns, os.path.join(LOCATION_PATH, \"swiss_towns_dict.pkl\"))"
   ]
  },
  {
   "cell_type": "code",
   "execution_count": 3,
   "metadata": {
    "ExecuteTime": {
     "end_time": "2020-09-19T16:07:16.150689Z",
     "start_time": "2020-09-19T16:07:16.122670Z"
    }
   },
   "outputs": [
    {
     "data": {
      "text/plain": [
       "{'Switzerland': (47.00016, 8.01427, '00', 8516543, 'PCLI'),\n",
       " 'An Eilveis': (47.00016, 8.01427, '00', 8516543, 'PCLI'),\n",
       " 'An Eilvéis': (47.00016, 8.01427, '00', 8516543, 'PCLI'),\n",
       " 'Confederatio Helvetica': (47.00016, 8.01427, '00', 8516543, 'PCLI'),\n",
       " 'Confederation Suisse': (47.00016, 8.01427, '00', 8516543, 'PCLI'),\n",
       " 'Confederazione Svizzera': (47.00016, 8.01427, '00', 8516543, 'PCLI'),\n",
       " 'Confoederatio Helvetica': (47.00016, 8.01427, '00', 8516543, 'PCLI'),\n",
       " 'Confédération Suisse': (47.00016, 8.01427, '00', 8516543, 'PCLI'),\n",
       " 'Elvetia': (47.00016, 8.01427, '00', 8516543, 'PCLI'),\n",
       " 'Elveția': (47.00016, 8.01427, '00', 8516543, 'PCLI'),\n",
       " 'Helvetia': (47.00016, 8.01427, '00', 8516543, 'PCLI'),\n",
       " 'Isvicre': (47.00016, 8.01427, '00', 8516543, 'PCLI'),\n",
       " 'Iveits': (47.00016, 8.01427, '00', 8516543, 'PCLI'),\n",
       " 'Orileede switisilandi': (47.00016, 8.01427, '00', 8516543, 'PCLI'),\n",
       " 'Orílẹ́ède switiṣilandi': (47.00016, 8.01427, '00', 8516543, 'PCLI'),\n",
       " 'Schweiz': (47.00016, 8.01427, '00', 8516543, 'PCLI'),\n",
       " 'Schweizerische Eidgenossenschaft': (47.00016,\n",
       "  8.01427,\n",
       "  '00',\n",
       "  8516543,\n",
       "  'PCLI'),\n",
       " 'Schweizi': (47.00016, 8.01427, '00', 8516543, 'PCLI'),\n",
       " 'Schwiz': (47.00016, 8.01427, '00', 8516543, 'PCLI'),\n",
       " 'Shvajcarija': (47.00016, 8.01427, '00', 8516543, 'PCLI'),\n",
       " 'Shvajcarska': (47.00016, 8.01427, '00', 8516543, 'PCLI'),\n",
       " 'Shvejcarija': (47.00016, 8.01427, '00', 8516543, 'PCLI'),\n",
       " 'Shvejcaryja': (47.00016, 8.01427, '00', 8516543, 'PCLI'),\n",
       " 'Soisa': (47.00016, 8.01427, '00', 8516543, 'PCLI'),\n",
       " 'Soissa': (47.00016, 8.01427, '00', 8516543, 'PCLI'),\n",
       " 'Soïssa': (47.00016, 8.01427, '00', 8516543, 'PCLI'),\n",
       " 'Suica': (47.00016, 8.01427, '00', 8516543, 'PCLI'),\n",
       " 'Suis': (47.00016, 8.01427, '00', 8516543, 'PCLI'),\n",
       " 'Suisi': (47.00016, 8.01427, '00', 8516543, 'PCLI'),\n",
       " 'Suisilani': (47.00016, 8.01427, '00', 8516543, 'PCLI'),\n",
       " 'Suissa': (47.00016, 8.01427, '00', 8516543, 'PCLI'),\n",
       " 'Suisse': (47.00016, 8.01427, '00', 8516543, 'PCLI'),\n",
       " 'Suitza': (47.00016, 8.01427, '00', 8516543, 'PCLI'),\n",
       " 'Suiza': (47.00016, 8.01427, '00', 8516543, 'PCLI'),\n",
       " 'Suwiis': (47.00016, 8.01427, '00', 8516543, 'PCLI'),\n",
       " 'Suwisi': (47.00016, 8.01427, '00', 8516543, 'PCLI'),\n",
       " 'Suwizalan': (47.00016, 8.01427, '00', 8516543, 'PCLI'),\n",
       " 'Suíza': (47.00016, 8.01427, '00', 8516543, 'PCLI'),\n",
       " 'Suíça': (47.00016, 8.01427, '00', 8516543, 'PCLI'),\n",
       " 'Suïssa': (47.00016, 8.01427, '00', 8516543, 'PCLI'),\n",
       " 'Svajc': (47.00016, 8.01427, '00', 8516543, 'PCLI'),\n",
       " 'Svajcarska': (47.00016, 8.01427, '00', 8516543, 'PCLI'),\n",
       " 'Svajciarsko': (47.00016, 8.01427, '00', 8516543, 'PCLI'),\n",
       " 'Sveica': (47.00016, 8.01427, '00', 8516543, 'PCLI'),\n",
       " 'Sveicarija': (47.00016, 8.01427, '00', 8516543, 'PCLI'),\n",
       " 'Sveice': (47.00016, 8.01427, '00', 8516543, 'PCLI'),\n",
       " 'Sveis': (47.00016, 8.01427, '00', 8516543, 'PCLI'),\n",
       " 'Sveits': (47.00016, 8.01427, '00', 8516543, 'PCLI'),\n",
       " 'Sveitsi': (47.00016, 8.01427, '00', 8516543, 'PCLI'),\n",
       " 'Svejcaria': (47.00016, 8.01427, '00', 8516543, 'PCLI'),\n",
       " 'Svica': (47.00016, 8.01427, '00', 8516543, 'PCLI'),\n",
       " 'Svicarska': (47.00016, 8.01427, '00', 8516543, 'PCLI'),\n",
       " 'Sviss': (47.00016, 8.01427, '00', 8516543, 'PCLI'),\n",
       " 'Svisujo': (47.00016, 8.01427, '00', 8516543, 'PCLI'),\n",
       " 'Svizra': (47.00016, 8.01427, '00', 8516543, 'PCLI'),\n",
       " 'Svizzera': (47.00016, 8.01427, '00', 8516543, 'PCLI'),\n",
       " 'Svycarsko': (47.00016, 8.01427, '00', 8516543, 'PCLI'),\n",
       " 'Svájc': (47.00016, 8.01427, '00', 8516543, 'PCLI'),\n",
       " 'Swetzaland': (47.00016, 8.01427, '00', 8516543, 'PCLI'),\n",
       " 'Swiiserlaand': (47.00016, 8.01427, '00', 8516543, 'PCLI'),\n",
       " 'Swise': (47.00016, 8.01427, '00', 8516543, 'PCLI'),\n",
       " 'Swiss': (47.00016, 8.01427, '00', 8516543, 'PCLI'),\n",
       " 'Swiss Confederation': (47.00016, 8.01427, '00', 8516543, 'PCLI'),\n",
       " 'Swisɛ': (47.00016, 8.01427, '00', 8516543, 'PCLI'),\n",
       " 'Switizirandi': (47.00016, 8.01427, '00', 8516543, 'PCLI'),\n",
       " 'Switserland': (47.00016, 8.01427, '00', 8516543, 'PCLI'),\n",
       " 'Switzerland nutome': (47.00016, 8.01427, '00', 8516543, 'PCLI'),\n",
       " 'Szwajcaria': (47.00016, 8.01427, '00', 8516543, 'PCLI'),\n",
       " 'Sûîsi': (47.00016, 8.01427, '00', 8516543, 'PCLI'),\n",
       " 'Thuy Si': (47.00016, 8.01427, '00', 8516543, 'PCLI'),\n",
       " 'Thụy Sĩ': (47.00016, 8.01427, '00', 8516543, 'PCLI'),\n",
       " 'Ubusuwisi': (47.00016, 8.01427, '00', 8516543, 'PCLI'),\n",
       " 'Uswisi': (47.00016, 8.01427, '00', 8516543, 'PCLI'),\n",
       " 'Y Swistir': (47.00016, 8.01427, '00', 8516543, 'PCLI'),\n",
       " 'Zvicer': (47.00016, 8.01427, '00', 8516543, 'PCLI'),\n",
       " 'Zvicër': (47.00016, 8.01427, '00', 8516543, 'PCLI'),\n",
       " 'Zwitserland': (47.00016, 8.01427, '00', 8516543, 'PCLI'),\n",
       " 'i-Switzerland': (47.00016, 8.01427, '00', 8516543, 'PCLI'),\n",
       " 'isvecriya': (47.00016, 8.01427, '00', 8516543, 'PCLI'),\n",
       " 'isveçriya': (47.00016, 8.01427, '00', 8516543, 'PCLI'),\n",
       " 'rui shi': (47.00016, 8.01427, '00', 8516543, 'PCLI'),\n",
       " 'sbijaralyanda': (47.00016, 8.01427, '00', 8516543, 'PCLI'),\n",
       " 'seuwiseu': (47.00016, 8.01427, '00', 8516543, 'PCLI'),\n",
       " 'shveitsaria': (47.00016, 8.01427, '00', 8516543, 'PCLI'),\n",
       " \"su'ijaralyanda\": (47.00016, 8.01427, '00', 8516543, 'PCLI'),\n",
       " \"su'ijarlanda\": (47.00016, 8.01427, '00', 8516543, 'PCLI'),\n",
       " 'suisu': (47.00016, 8.01427, '00', 8516543, 'PCLI'),\n",
       " 'suisu lian bang': (47.00016, 8.01427, '00', 8516543, 'PCLI'),\n",
       " 'svijaralyanda': (47.00016, 8.01427, '00', 8516543, 'PCLI'),\n",
       " 'svisa': (47.00016, 8.01427, '00', 8516543, 'PCLI'),\n",
       " 'svitazaralainda': (47.00016, 8.01427, '00', 8516543, 'PCLI'),\n",
       " 'svitcarlantu': (47.00016, 8.01427, '00', 8516543, 'PCLI'),\n",
       " 'svitjarlend': (47.00016, 8.01427, '00', 8516543, 'PCLI'),\n",
       " 'svitjharlanda': (47.00016, 8.01427, '00', 8516543, 'PCLI'),\n",
       " 'svitjharlenda': (47.00016, 8.01427, '00', 8516543, 'PCLI'),\n",
       " 'swwyyz': (47.00016, 8.01427, '00', 8516543, 'PCLI'),\n",
       " 'swwyz': (47.00016, 8.01427, '00', 8516543, 'PCLI'),\n",
       " 'swys': (47.00016, 8.01427, '00', 8516543, 'PCLI'),\n",
       " 'swysra': (47.00016, 8.01427, '00', 8516543, 'PCLI'),\n",
       " 'swyys': (47.00016, 8.01427, '00', 8516543, 'PCLI'),\n",
       " 'Ĩveits': (47.00016, 8.01427, '00', 8516543, 'PCLI'),\n",
       " 'İsviçre': (47.00016, 8.01427, '00', 8516543, 'PCLI'),\n",
       " 'Švajcarska': (47.00016, 8.01427, '00', 8516543, 'PCLI'),\n",
       " 'Švajčiarsko': (47.00016, 8.01427, '00', 8516543, 'PCLI'),\n",
       " 'Šveica': (47.00016, 8.01427, '00', 8516543, 'PCLI'),\n",
       " 'Šveicarija': (47.00016, 8.01427, '00', 8516543, 'PCLI'),\n",
       " 'Šveice': (47.00016, 8.01427, '00', 8516543, 'PCLI'),\n",
       " 'Šveits': (47.00016, 8.01427, '00', 8516543, 'PCLI'),\n",
       " 'Švica': (47.00016, 8.01427, '00', 8516543, 'PCLI'),\n",
       " 'Švicarska': (47.00016, 8.01427, '00', 8516543, 'PCLI'),\n",
       " 'Švýcarsko': (47.00016, 8.01427, '00', 8516543, 'PCLI'),\n",
       " 'Ελβετία': (47.00016, 8.01427, '00', 8516543, 'PCLI'),\n",
       " 'Швајцарија': (47.00016, 8.01427, '00', 8516543, 'PCLI'),\n",
       " 'Швајцарска': (47.00016, 8.01427, '00', 8516543, 'PCLI'),\n",
       " 'Швейцария': (47.00016, 8.01427, '00', 8516543, 'PCLI'),\n",
       " 'Швейцарыя': (47.00016, 8.01427, '00', 8516543, 'PCLI'),\n",
       " 'Швейцарія': (47.00016, 8.01427, '00', 8516543, 'PCLI'),\n",
       " 'Շվեյցարիա': (47.00016, 8.01427, '00', 8516543, 'PCLI'),\n",
       " 'שווייץ': (47.00016, 8.01427, '00', 8516543, 'PCLI'),\n",
       " 'שוויץ': (47.00016, 8.01427, '00', 8516543, 'PCLI'),\n",
       " 'سوئٹزر لینڈ': (47.00016, 8.01427, '00', 8516543, 'PCLI'),\n",
       " 'سوئیس': (47.00016, 8.01427, '00', 8516543, 'PCLI'),\n",
       " 'سويسرا': (47.00016, 8.01427, '00', 8516543, 'PCLI'),\n",
       " 'سویس': (47.00016, 8.01427, '00', 8516543, 'PCLI'),\n",
       " 'سویسرا': (47.00016, 8.01427, '00', 8516543, 'PCLI'),\n",
       " 'स्विजरल्याण्ड': (47.00016, 8.01427, '00', 8516543, 'PCLI'),\n",
       " 'स्विटज़रलैंड': (47.00016, 8.01427, '00', 8516543, 'PCLI'),\n",
       " 'स्वित्झर्लंड': (47.00016, 8.01427, '00', 8516543, 'PCLI'),\n",
       " 'स्विस': (47.00016, 8.01427, '00', 8516543, 'PCLI'),\n",
       " 'সুইজর্লণ্ড': (47.00016, 8.01427, '00', 8516543, 'PCLI'),\n",
       " 'সুইজারল্যান্ড': (47.00016, 8.01427, '00', 8516543, 'PCLI'),\n",
       " 'સ્વિટ્ઝર્લૅન્ડ': (47.00016, 8.01427, '00', 8516543, 'PCLI'),\n",
       " 'ସ୍ବିଜରଲ୍ୟାଣ୍ଡ': (47.00016, 8.01427, '00', 8516543, 'PCLI'),\n",
       " 'ஸ்விட்சர்லாந்து': (47.00016, 8.01427, '00', 8516543, 'PCLI'),\n",
       " 'స్విట్జర్లేండ్': (47.00016, 8.01427, '00', 8516543, 'PCLI'),\n",
       " 'ಸ್ವಿಡ್ಜರ್\\u200cಲ್ಯಾಂಡ್': (47.00016, 8.01427, '00', 8516543, 'PCLI'),\n",
       " 'സ്വിറ്റ്സര്\\u200dലാന്\\u200dഡ്': (47.00016, 8.01427, '00', 8516543, 'PCLI'),\n",
       " 'ස්විස්ටර්ලන්තය': (47.00016, 8.01427, '00', 8516543, 'PCLI'),\n",
       " 'สวิตเซอร์แลนด์': (47.00016, 8.01427, '00', 8516543, 'PCLI'),\n",
       " 'ສະວິດເຊີແລນ': (47.00016, 8.01427, '00', 8516543, 'PCLI'),\n",
       " 'སུའིཊ་ཛར་ལེན': (47.00016, 8.01427, '00', 8516543, 'PCLI'),\n",
       " 'ཧྲུད་ཧྲི།': (47.00016, 8.01427, '00', 8516543, 'PCLI'),\n",
       " 'ဆွစ်ဇလန်': (47.00016, 8.01427, '00', 8516543, 'PCLI'),\n",
       " 'შვეიცარია': (47.00016, 8.01427, '00', 8516543, 'PCLI'),\n",
       " 'ስዊዘርላንድ': (47.00016, 8.01427, '00', 8516543, 'PCLI'),\n",
       " 'ស្វីស': (47.00016, 8.01427, '00', 8516543, 'PCLI'),\n",
       " 'スイス': (47.00016, 8.01427, '00', 8516543, 'PCLI'),\n",
       " 'スイス連邦': (47.00016, 8.01427, '00', 8516543, 'PCLI'),\n",
       " '瑞士': (47.00016, 8.01427, '00', 8516543, 'PCLI'),\n",
       " '스위스': (47.00016, 8.01427, '00', 8516543, 'PCLI')}"
      ]
     },
     "execution_count": 3,
     "metadata": {},
     "output_type": "execute_result"
    }
   ],
   "source": [
    "joblib.load(os.path.join(LOCATION_PATH, \"swiss_country_dict.pkl\"))"
   ]
  },
  {
   "cell_type": "markdown",
   "metadata": {},
   "source": [
    "# Get list of all places in Switzerland (old)"
   ]
  }
 ],
 "metadata": {
  "hide_input": false,
  "kernelspec": {
   "display_name": "Python 3",
   "language": "python",
   "name": "python3"
  },
  "language_info": {
   "codemirror_mode": {
    "name": "ipython",
    "version": 3
   },
   "file_extension": ".py",
   "mimetype": "text/x-python",
   "name": "python",
   "nbconvert_exporter": "python",
   "pygments_lexer": "ipython3",
   "version": "3.8.5"
  },
  "toc": {
   "base_numbering": 1,
   "nav_menu": {},
   "number_sections": true,
   "sideBar": true,
   "skip_h1_title": false,
   "title_cell": "Table of Contents",
   "title_sidebar": "Contents",
   "toc_cell": false,
   "toc_position": {},
   "toc_section_display": true,
   "toc_window_display": false
  }
 },
 "nbformat": 4,
 "nbformat_minor": 4
}
