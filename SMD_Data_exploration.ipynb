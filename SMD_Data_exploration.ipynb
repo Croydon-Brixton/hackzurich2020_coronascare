{
 "cells": [
  {
   "cell_type": "code",
   "execution_count": 165,
   "metadata": {
    "ExecuteTime": {
     "end_time": "2020-09-19T16:07:53.660269Z",
     "start_time": "2020-09-19T16:07:53.628929Z"
    }
   },
   "outputs": [
    {
     "name": "stderr",
     "output_type": "stream",
     "text": [
      "/opt/miniconda3/envs/hackzh2020/lib/python3.8/site-packages/tqdm/std.py:668: FutureWarning: The Panel class is removed from pandas. Accessing it from the top-level namespace will also be removed in the next version\n",
      "  from pandas import Panel\n"
     ]
    }
   ],
   "source": [
    "import pandas as pd\n",
    "import os\n",
    "import seaborn as sns\n",
    "import json\n",
    "from tqdm.notebook import tqdm\n",
    "import pickle\n",
    "import joblib\n",
    "tqdm.pandas()"
   ]
  },
  {
   "cell_type": "code",
   "execution_count": 2,
   "metadata": {
    "ExecuteTime": {
     "end_time": "2020-09-19T12:41:06.558817Z",
     "start_time": "2020-09-19T12:41:06.477503Z"
    },
    "code_folding": [
     42
    ]
   },
   "outputs": [],
   "source": [
    "csv_files = [os.path.join('/home/aneesh/data/srf_data/SMD', filename) for filename in os.listdir('/home/aneesh/data/srf_data/SMD')]\n",
    "\n",
    "def extract_text_from_json(json_list):\n",
    "    try:\n",
    "        text = []\n",
    "        for elem in json_list:\n",
    "            if 'zt' in elem.keys():\n",
    "                text.append(elem['zt']['text'])\n",
    "            if 'p' in elem.keys():\n",
    "                try:\n",
    "                    text.append(elem['p']['text'])\n",
    "                except Exception as e:\n",
    "                    pass\n",
    "#                     print('List found in paragraph')\n",
    "\n",
    "                    \n",
    "        return '\\n'.join(text)\n",
    "    except Exception as e:\n",
    "        pass\n",
    "#         print(e)\n",
    "#         print('dict in list failed')\n",
    "    try:\n",
    "        text = []\n",
    "        for elem in json_list:\n",
    "            for sect in elem:\n",
    "                if 'zt' in sect.keys():\n",
    "                    text.append(sect['zt']['text'])\n",
    "                if 'p' in sect.keys():\n",
    "                    text.append(sect['p']['text'])\n",
    "        return '\\n '.join(text)\n",
    "    except Exception as e:\n",
    "        pass\n",
    "#         print(e)\n",
    "#         print('dict in list of list failed!')\n",
    "\n",
    "CORONA_WORD_LIST = list(set([elem[0] for elem in pd.read_csv('/home/aneesh/data/srf_data/wordlists/viruswordlist.en.txt').values]\n",
    "    +[elem[0] for elem in pd.read_csv('/home/aneesh/data/srf_data/wordlists/viruswordlist.de.txt').values]))\n",
    "\n",
    "def select_corona_article(string):\n",
    "    paragraphs = string.split('\\n')\n",
    "    corona_paragraphs = []\n",
    "    for para in paragraphs:\n",
    "        if is_corona(para, CORONA_WORD_LIST)>0:\n",
    "            corona_paragraphs.append(para)\n",
    "    return '\\n '.join(corona_paragraphs)\n",
    "\n",
    "def is_corona(sent, word_list):\n",
    "    return sum(word in sent.lower() for word in word_list)\n",
    "\n",
    "def process_data_frame(df):\n",
    "    df.pubDateTime = pd.to_datetime(df.pubDateTime, utc=True)\n",
    "    df.tx = df.tx.apply(lambda x : json.loads(x))\n",
    "    df.tx = df.tx.apply(lambda x : extract_text_from_json(x))\n",
    "    df['week'] = df.pubDateTime.dt.isocalendar().week\n",
    "    df['year'] = df.pubDateTime.dt.year\n",
    "    return df[['so','so_txt','pubDateTime','week','year','la','tx','ru']].dropna(subset=['pubDateTime', 'tx','so'])"
   ]
  },
  {
   "cell_type": "code",
   "execution_count": 3,
   "metadata": {
    "ExecuteTime": {
     "end_time": "2020-09-19T12:41:10.175013Z",
     "start_time": "2020-09-19T12:41:10.171058Z"
    }
   },
   "outputs": [],
   "source": [
    "def select_corona_article(string):\n",
    "    paragraphs = string.split('\\n')\n",
    "    corona_paragraphs = []\n",
    "    for para in paragraphs:\n",
    "        if is_corona(para, CORONA_WORD_LIST)>0:\n",
    "            corona_paragraphs.append(para)\n",
    "    return '\\n '.join(corona_paragraphs)\n",
    "           "
   ]
  },
  {
   "cell_type": "markdown",
   "metadata": {},
   "source": [
    "# Data cleaning"
   ]
  },
  {
   "cell_type": "code",
   "execution_count": 4,
   "metadata": {
    "ExecuteTime": {
     "end_time": "2020-09-19T11:37:49.953752Z",
     "start_time": "2020-09-19T11:36:11.641612Z"
    },
    "collapsed": true
   },
   "outputs": [
    {
     "data": {
      "application/vnd.jupyter.widget-view+json": {
       "model_id": "5db3c1ff80cc4cbaa9d00704cfabc638",
       "version_major": 2,
       "version_minor": 0
      },
      "text/plain": [
       "HBox(children=(FloatProgress(value=0.0, max=71.0), HTML(value='')))"
      ]
     },
     "metadata": {},
     "output_type": "display_data"
    },
    {
     "name": "stdout",
     "output_type": "stream",
     "text": [
      "Original length 1012\n",
      "New length 1006\n",
      "Original length 3047\n",
      "New length 2873\n",
      "Original length 11313\n",
      "New length 9483\n",
      "Original length 1736\n",
      "New length 1391\n",
      "Original length 13955\n",
      "New length 12220\n",
      "Original length 13015\n",
      "New length 11364\n",
      "Original length 2772\n",
      "New length 2047\n",
      "Original length 12175\n",
      "New length 10798\n",
      "Original length 2800\n",
      "New length 2659\n",
      "Original length 116\n",
      "New length 114\n",
      "Original length 16412\n",
      "New length 16409\n",
      "Original length 563\n",
      "New length 534\n",
      "Original length 1253\n",
      "New length 1031\n",
      "Original length 2831\n",
      "New length 2831\n",
      "Original length 691\n",
      "New length 687\n",
      "Original length 112\n",
      "New length 112\n",
      "Original length 20987\n",
      "New length 20987\n",
      "Original length 12345\n",
      "New length 10536\n",
      "Original length 2315\n",
      "New length 2314\n",
      "Original length 123\n",
      "New length 123\n",
      "Original length 26241\n",
      "New length 26241\n",
      "Original length 16161\n",
      "New length 16157\n",
      "Original length 15372\n",
      "New length 15368\n",
      "Original length 13326\n",
      "New length 11682\n",
      "Original length 5273\n",
      "New length 5205\n",
      "Original length 3423\n",
      "New length 3423\n",
      "Original length 5007\n",
      "New length 5007\n",
      "Original length 108\n",
      "New length 105\n",
      "Original length 309\n",
      "New length 271\n",
      "Original length 12143\n",
      "New length 10667\n",
      "Original length 43024\n",
      "New length 43024\n",
      "Original length 1201\n",
      "New length 1184\n",
      "Original length 856\n",
      "New length 808\n",
      "Original length 439\n",
      "New length 427\n",
      "Original length 85\n",
      "New length 85\n",
      "Original length 522\n",
      "New length 512\n",
      "Original length 13290\n",
      "New length 11821\n",
      "Original length 917\n",
      "New length 917\n",
      "Original length 501\n",
      "New length 501\n",
      "Original length 12168\n",
      "New length 12167\n",
      "Original length 81\n",
      "New length 74\n",
      "Original length 5041\n",
      "New length 5041\n",
      "Original length 488\n",
      "New length 487\n",
      "Original length 174\n",
      "New length 174\n",
      "Original length 103157\n",
      "New length 103157\n",
      "Original length 1752\n",
      "New length 1580\n",
      "Original length 59\n",
      "New length 56\n",
      "Original length 463\n",
      "New length 434\n",
      "Original length 12305\n",
      "New length 10766\n",
      "Original length 8498\n",
      "New length 7524\n",
      "Original length 15626\n",
      "New length 15624\n",
      "Original length 3335\n",
      "New length 3334\n",
      "Original length 10937\n",
      "New length 7201\n",
      "Original length 93\n",
      "New length 89\n",
      "Original length 3119\n",
      "New length 3000\n",
      "Original length 75\n",
      "New length 74\n",
      "Original length 17251\n",
      "New length 17251\n",
      "Original length 49\n",
      "New length 47\n",
      "Original length 9165\n",
      "New length 8976\n",
      "Original length 3145\n",
      "New length 2951\n",
      "Original length 223\n",
      "New length 223\n",
      "Original length 12663\n",
      "New length 10561\n",
      "Original length 5856\n",
      "New length 5856\n",
      "Original length 404\n",
      "New length 404\n",
      "\n"
     ]
    }
   ],
   "source": [
    "DF = pd.DataFrame()\n",
    "for csv_file in tqdm(csv_files): \n",
    "    if '.csv' in csv_file:\n",
    "        df = pd.read_csv(csv_file)\n",
    "        print(f'Original length {len(df)}')\n",
    "        df = process_data_frame(df)\n",
    "        print(f'New length {len(df)}')\n",
    "        DF = DF.append(df)"
   ]
  },
  {
   "cell_type": "code",
   "execution_count": 228,
   "metadata": {
    "ExecuteTime": {
     "end_time": "2020-09-19T17:04:54.818829Z",
     "start_time": "2020-09-19T17:04:54.617508Z"
    }
   },
   "outputs": [
    {
     "data": {
      "text/plain": [
       "<AxesSubplot:xlabel='pubDateTime', ylabel='Score'>"
      ]
     },
     "execution_count": 228,
     "metadata": {},
     "output_type": "execute_result"
    },
    {
     "data": {
      "image/png": "[encoded data removed]",
      "text/plain": [
       "<Figure size 432x288 with 1 Axes>"
      ]
     },
     "metadata": {
      "needs_background": "light"
     },
     "output_type": "display_data"
    }
   ],
   "source": [
    "sns.lineplot(x=DF.index, y='Score', data=DF)"
   ]
  },
  {
   "cell_type": "markdown",
   "metadata": {},
   "source": [
    "# Corona estimaton in the article"
   ]
  },
  {
   "cell_type": "code",
   "execution_count": null,
   "metadata": {
    "ExecuteTime": {
     "start_time": "2020-09-19T11:38:36.270Z"
    }
   },
   "outputs": [
    {
     "data": {
      "application/vnd.jupyter.widget-view+json": {
       "model_id": "9092188312584407b1e84a4af026ad45",
       "version_major": 2,
       "version_minor": 0
      },
      "text/plain": [
       "HBox(children=(FloatProgress(value=0.0, max=479975.0), HTML(value='')))"
      ]
     },
     "metadata": {},
     "output_type": "display_data"
    }
   ],
   "source": [
    "DF['corona_articles'] = DF.tx.progress_apply(lambda x: select_corona_article(x))"
   ]
  },
  {
   "cell_type": "markdown",
   "metadata": {},
   "source": [
    "# Corona related word counts in corona articles"
   ]
  },
  {
   "cell_type": "code",
   "execution_count": 129,
   "metadata": {
    "ExecuteTime": {
     "end_time": "2020-09-19T10:44:31.390444Z",
     "start_time": "2020-09-19T10:43:14.744949Z"
    },
    "code_folding": []
   },
   "outputs": [
    {
     "data": {
      "application/vnd.jupyter.widget-view+json": {
       "model_id": "4a6bd854355f49fa9a26dcf19e76f15e",
       "version_major": 2,
       "version_minor": 0
      },
      "text/plain": [
       "HBox(children=(FloatProgress(value=0.0, max=19.0), HTML(value='')))"
      ]
     },
     "metadata": {},
     "output_type": "display_data"
    },
    {
     "data": {
      "application/vnd.jupyter.widget-view+json": {
       "model_id": "61ed4812d44f4dbbaaf4bd1e29104b30",
       "version_major": 2,
       "version_minor": 0
      },
      "text/plain": [
       "HBox(children=(FloatProgress(value=0.0, max=479975.0), HTML(value='')))"
      ]
     },
     "metadata": {},
     "output_type": "display_data"
    },
    {
     "name": "stdout",
     "output_type": "stream",
     "text": [
      "\n",
      "calculating occurences for covid19\n",
      "Total occurences 311\n",
      "Number of articles 0.06479504140840668%\n"
     ]
    },
    {
     "data": {
      "application/vnd.jupyter.widget-view+json": {
       "model_id": "622bd5f6fd6b44b3b8f589439cc807e2",
       "version_major": 2,
       "version_minor": 0
      },
      "text/plain": [
       "HBox(children=(FloatProgress(value=0.0, max=479975.0), HTML(value='')))"
      ]
     },
     "metadata": {},
     "output_type": "display_data"
    },
    {
     "name": "stdout",
     "output_type": "stream",
     "text": [
      "\n",
      "calculating occurences for fälle\n",
      "Total occurences 62346\n",
      "Number of articles 12.989426532631908%\n"
     ]
    },
    {
     "data": {
      "application/vnd.jupyter.widget-view+json": {
       "model_id": "79e3252f3ee44d05971540ef4a42f2ac",
       "version_major": 2,
       "version_minor": 0
      },
      "text/plain": [
       "HBox(children=(FloatProgress(value=0.0, max=479975.0), HTML(value='')))"
      ]
     },
     "metadata": {},
     "output_type": "display_data"
    },
    {
     "name": "stdout",
     "output_type": "stream",
     "text": [
      "\n",
      "calculating occurences for robert koch\n",
      "Total occurences 662\n",
      "Number of articles 0.13792385020053127%\n"
     ]
    },
    {
     "data": {
      "application/vnd.jupyter.widget-view+json": {
       "model_id": "ac8fccf05b97485f92a089a489d1665b",
       "version_major": 2,
       "version_minor": 0
      },
      "text/plain": [
       "HBox(children=(FloatProgress(value=0.0, max=479975.0), HTML(value='')))"
      ]
     },
     "metadata": {},
     "output_type": "display_data"
    },
    {
     "name": "stdout",
     "output_type": "stream",
     "text": [
      "\n",
      "calculating occurences for covid-19\n",
      "Total occurences 32013\n",
      "Number of articles 6.66972238137403%\n"
     ]
    },
    {
     "data": {
      "application/vnd.jupyter.widget-view+json": {
       "model_id": "adb8f2eef9224b4cbce47a6207d75fd2",
       "version_major": 2,
       "version_minor": 0
      },
      "text/plain": [
       "HBox(children=(FloatProgress(value=0.0, max=479975.0), HTML(value='')))"
      ]
     },
     "metadata": {},
     "output_type": "display_data"
    },
    {
     "name": "stdout",
     "output_type": "stream",
     "text": [
      "\n",
      "calculating occurences for lockdown\n",
      "Total occurences 24551\n",
      "Number of articles 5.115058075941455%\n"
     ]
    },
    {
     "data": {
      "application/vnd.jupyter.widget-view+json": {
       "model_id": "9af58e77b7d041b6a4cb199577ca93ae",
       "version_major": 2,
       "version_minor": 0
      },
      "text/plain": [
       "HBox(children=(FloatProgress(value=0.0, max=479975.0), HTML(value='')))"
      ]
     },
     "metadata": {},
     "output_type": "display_data"
    },
    {
     "name": "stdout",
     "output_type": "stream",
     "text": [
      "\n",
      "calculating occurences for corona\n",
      "Total occurences 151049\n",
      "Number of articles 31.470180738580133%\n"
     ]
    },
    {
     "data": {
      "application/vnd.jupyter.widget-view+json": {
       "model_id": "9c798ef05b624f6c9d67e8f44db577f1",
       "version_major": 2,
       "version_minor": 0
      },
      "text/plain": [
       "HBox(children=(FloatProgress(value=0.0, max=479975.0), HTML(value='')))"
      ]
     },
     "metadata": {},
     "output_type": "display_data"
    },
    {
     "name": "stdout",
     "output_type": "stream",
     "text": [
      "\n",
      "calculating occurences for case\n",
      "Total occurences 1674\n",
      "Number of articles 0.3487681650085942%\n"
     ]
    },
    {
     "data": {
      "application/vnd.jupyter.widget-view+json": {
       "model_id": "9ed4798b034747c2b8feca6aad950694",
       "version_major": 2,
       "version_minor": 0
      },
      "text/plain": [
       "HBox(children=(FloatProgress(value=0.0, max=479975.0), HTML(value='')))"
      ]
     },
     "metadata": {},
     "output_type": "display_data"
    },
    {
     "name": "stdout",
     "output_type": "stream",
     "text": [
      "\n",
      "calculating occurences for wet market\n",
      "Total occurences 26\n",
      "Number of articles 0.005416948799416637%\n"
     ]
    },
    {
     "data": {
      "application/vnd.jupyter.widget-view+json": {
       "model_id": "b9e4cf314ab34356a370312cad5819e3",
       "version_major": 2,
       "version_minor": 0
      },
      "text/plain": [
       "HBox(children=(FloatProgress(value=0.0, max=479975.0), HTML(value='')))"
      ]
     },
     "metadata": {},
     "output_type": "display_data"
    },
    {
     "name": "stdout",
     "output_type": "stream",
     "text": [
      "\n",
      "calculating occurences for covid\n",
      "Total occurences 35666\n",
      "Number of articles 7.430803687692067%\n"
     ]
    },
    {
     "data": {
      "application/vnd.jupyter.widget-view+json": {
       "model_id": "116b6469902c4f7d8e9ee1db0eb8eb19",
       "version_major": 2,
       "version_minor": 0
      },
      "text/plain": [
       "HBox(children=(FloatProgress(value=0.0, max=479975.0), HTML(value='')))"
      ]
     },
     "metadata": {},
     "output_type": "display_data"
    },
    {
     "name": "stdout",
     "output_type": "stream",
     "text": [
      "\n",
      "calculating occurences for bat\n",
      "Total occurences 27772\n",
      "Number of articles 5.786134694515339%\n"
     ]
    },
    {
     "data": {
      "application/vnd.jupyter.widget-view+json": {
       "model_id": "ac590f686d5c4f42a0068120f47c14d9",
       "version_major": 2,
       "version_minor": 0
      },
      "text/plain": [
       "HBox(children=(FloatProgress(value=0.0, max=479975.0), HTML(value='')))"
      ]
     },
     "metadata": {},
     "output_type": "display_data"
    },
    {
     "name": "stdout",
     "output_type": "stream",
     "text": [
      "\n",
      "calculating occurences for fallzahl\n",
      "Total occurences 7995\n",
      "Number of articles 1.6657117558206156%\n"
     ]
    },
    {
     "data": {
      "application/vnd.jupyter.widget-view+json": {
       "model_id": "6a6c22dcf7144bb38cddf3d448fcf6e7",
       "version_major": 2,
       "version_minor": 0
      },
      "text/plain": [
       "HBox(children=(FloatProgress(value=0.0, max=479975.0), HTML(value='')))"
      ]
     },
     "metadata": {},
     "output_type": "display_data"
    },
    {
     "name": "stdout",
     "output_type": "stream",
     "text": [
      "\n",
      "calculating occurences for infection\n",
      "Total occurences 215\n",
      "Number of articles 0.044793999687483724%\n"
     ]
    },
    {
     "data": {
      "application/vnd.jupyter.widget-view+json": {
       "model_id": "e6ea2f1a13a64d9b8692e27208d8ffb1",
       "version_major": 2,
       "version_minor": 0
      },
      "text/plain": [
       "HBox(children=(FloatProgress(value=0.0, max=479975.0), HTML(value='')))"
      ]
     },
     "metadata": {},
     "output_type": "display_data"
    },
    {
     "name": "stdout",
     "output_type": "stream",
     "text": [
      "\n",
      "calculating occurences for infektion\n",
      "Total occurences 36076\n",
      "Number of articles 7.5162248033751755%\n"
     ]
    },
    {
     "data": {
      "application/vnd.jupyter.widget-view+json": {
       "model_id": "5b355c7a3bae4b1c81254a51fad07772",
       "version_major": 2,
       "version_minor": 0
      },
      "text/plain": [
       "HBox(children=(FloatProgress(value=0.0, max=479975.0), HTML(value='')))"
      ]
     },
     "metadata": {},
     "output_type": "display_data"
    },
    {
     "name": "stdout",
     "output_type": "stream",
     "text": [
      "\n",
      "calculating occurences for bag\n",
      "Total occurences 16500\n",
      "Number of articles 3.4376790457836344%\n"
     ]
    },
    {
     "data": {
      "application/vnd.jupyter.widget-view+json": {
       "model_id": "0fcf974ce9dc4451b220d368baa02131",
       "version_major": 2,
       "version_minor": 0
      },
      "text/plain": [
       "HBox(children=(FloatProgress(value=0.0, max=479975.0), HTML(value='')))"
      ]
     },
     "metadata": {},
     "output_type": "display_data"
    },
    {
     "name": "stdout",
     "output_type": "stream",
     "text": [
      "\n",
      "calculating occurences for cases\n",
      "Total occurences 168\n",
      "Number of articles 0.03500182301161519%\n"
     ]
    },
    {
     "data": {
      "application/vnd.jupyter.widget-view+json": {
       "model_id": "60b795a1cd8d4656ac6825d55b75073f",
       "version_major": 2,
       "version_minor": 0
      },
      "text/plain": [
       "HBox(children=(FloatProgress(value=0.0, max=479975.0), HTML(value='')))"
      ]
     },
     "metadata": {},
     "output_type": "display_data"
    },
    {
     "name": "stdout",
     "output_type": "stream",
     "text": [
      "\n",
      "calculating occurences for hospitalisierung\n",
      "Total occurences 437\n",
      "Number of articles 0.09104640866711808%\n"
     ]
    },
    {
     "data": {
      "application/vnd.jupyter.widget-view+json": {
       "model_id": "82ede72955674698a1b857ed9e399e09",
       "version_major": 2,
       "version_minor": 0
      },
      "text/plain": [
       "HBox(children=(FloatProgress(value=0.0, max=479975.0), HTML(value='')))"
      ]
     },
     "metadata": {},
     "output_type": "display_data"
    },
    {
     "name": "stdout",
     "output_type": "stream",
     "text": [
      "\n",
      "calculating occurences for daniel koch\n",
      "Total occurences 3512\n",
      "Number of articles 0.7317047762904318%\n"
     ]
    },
    {
     "data": {
      "application/vnd.jupyter.widget-view+json": {
       "model_id": "efec66a1d3184b3daba6a5caf38945ea",
       "version_major": 2,
       "version_minor": 0
      },
      "text/plain": [
       "HBox(children=(FloatProgress(value=0.0, max=479975.0), HTML(value='')))"
      ]
     },
     "metadata": {},
     "output_type": "display_data"
    },
    {
     "name": "stdout",
     "output_type": "stream",
     "text": [
      "\n",
      "calculating occurences for fall\n",
      "Total occurences 190875\n",
      "Number of articles 39.767696234178864%\n"
     ]
    },
    {
     "data": {
      "application/vnd.jupyter.widget-view+json": {
       "model_id": "f8cdcf7b37a742ec9f83e60e0e26d48a",
       "version_major": 2,
       "version_minor": 0
      },
      "text/plain": [
       "HBox(children=(FloatProgress(value=0.0, max=479975.0), HTML(value='')))"
      ]
     },
     "metadata": {},
     "output_type": "display_data"
    },
    {
     "name": "stdout",
     "output_type": "stream",
     "text": [
      "\n",
      "calculating occurences for hospitalization\n",
      "Total occurences 2\n",
      "Number of articles 0.0004166883691858951%\n",
      "\n"
     ]
    }
   ],
   "source": [
    "for word in tqdm(CORONA_WORD_LIST):\n",
    "    DF[word] = DF.corona_articles.progress_apply(lambda x : is_corona(x, [word])) \n",
    "    print(f'calculating occurences for {word}') \n",
    "    print(f\"Total occurences {sum(DF[word].values)}\")\n",
    "    print(f\"Number of articles {sum(DF[word]>0)*100.0/len(DF)}%\")"
   ]
  },
  {
   "cell_type": "code",
   "execution_count": null,
   "metadata": {},
   "outputs": [],
   "source": [
    "DF['paragraphs'] = DF.tx.progress_apply(lambda x : len(x.split('\\n')))\n",
    "DF = DF.drop(columns='tx')\n",
    "DF.to_csv('/home/aneesh/data/srf_data/processed/processed_new.csv')"
   ]
  },
  {
   "cell_type": "code",
   "execution_count": 5,
   "metadata": {
    "ExecuteTime": {
     "end_time": "2020-09-19T12:42:04.041426Z",
     "start_time": "2020-09-19T12:41:58.224529Z"
    }
   },
   "outputs": [
    {
     "name": "stderr",
     "output_type": "stream",
     "text": [
      "/opt/miniconda3/envs/hackzh2020/lib/python3.8/site-packages/IPython/core/interactiveshell.py:3145: DtypeWarning: Columns (7) have mixed types.Specify dtype option on import or set low_memory=False.\n",
      "  has_raised = await self.run_ast_nodes(code_ast.body, cell_name,\n"
     ]
    }
   ],
   "source": [
    "# DF = pd.read_csv('/home/aneesh/data/srf_data/processed/processed_new.csv')"
   ]
  },
  {
   "cell_type": "markdown",
   "metadata": {},
   "source": [
    "# Including paragraphs with corona only\n"
   ]
  },
  {
   "cell_type": "markdown",
   "metadata": {},
   "source": [
    "# Removing rows with no corona information."
   ]
  },
  {
   "cell_type": "code",
   "execution_count": 20,
   "metadata": {
    "ExecuteTime": {
     "end_time": "2020-09-19T12:48:57.791971Z",
     "start_time": "2020-09-19T12:48:57.644469Z"
    }
   },
   "outputs": [],
   "source": [
    "DF = DF[DF['corona_articles'].notna()]"
   ]
  },
  {
   "cell_type": "markdown",
   "metadata": {},
   "source": [
    "# Preparing language processor to select location"
   ]
  },
  {
   "cell_type": "code",
   "execution_count": 52,
   "metadata": {
    "ExecuteTime": {
     "end_time": "2020-09-19T13:41:49.298838Z",
     "start_time": "2020-09-19T13:41:49.114406Z"
    }
   },
   "outputs": [],
   "source": [
    "with open('/home/aneesh/data/location_data/swiss_country_dict.pkl','rb') as f:\n",
    "    swiss_country = pickle.load(f)\n",
    "with open('/home/aneesh/data/location_data/swiss_towns_dict.pkl','rb') as f:\n",
    "    swiss_town = pickle.load(f)\n",
    "with open('/home/aneesh/data/location_data/swiss_adminareas_dict.pkl','rb') as f:\n",
    "    swiss_adminareas = pickle.load(f)\n",
    "\n",
    "locs = list(locations.keys())\n",
    "from flashtext import KeywordProcessor\n",
    "kp_country = KeywordProcessor()\n",
    "kp_town = KeywordProcessor()\n",
    "kp_admin = KeywordProcessor()\n",
    "kp_country.add_keywords_from_list(list(swiss_country.keys()))\n",
    "kp_town.add_keywords_from_list(list(swiss_town.keys()))\n",
    "kp_admin.add_keywords_from_list(list(swiss_adminareas.keys()))"
   ]
  },
  {
   "cell_type": "markdown",
   "metadata": {},
   "source": [
    "## finding location"
   ]
  },
  {
   "cell_type": "code",
   "execution_count": 73,
   "metadata": {
    "ExecuteTime": {
     "end_time": "2020-09-19T14:05:05.609033Z",
     "start_time": "2020-09-19T14:01:53.977919Z"
    }
   },
   "outputs": [
    {
     "data": {
      "application/vnd.jupyter.widget-view+json": {
       "model_id": "00ba0679fb9e48d783d7b6f2fdb24ebe",
       "version_major": 2,
       "version_minor": 0
      },
      "text/plain": [
       "HBox(children=(FloatProgress(value=0.0, max=313066.0), HTML(value='')))"
      ]
     },
     "metadata": {},
     "output_type": "display_data"
    },
    {
     "name": "stdout",
     "output_type": "stream",
     "text": [
      "\n"
     ]
    }
   ],
   "source": [
    "coords = []\n",
    "empty_loc = 0\n",
    "for i in tqdm(range(len(DF))):\n",
    "\n",
    "    # Finding location in ru column\n",
    "    loc = kp_town.extract_keywords(str(DF.ru.iloc[i]))\n",
    "    # Finding in text.\n",
    "    loc += kp_town.extract_keywords(DF.corona_articles.iloc[i])\n",
    "    if len(loc)!=0:\n",
    "        if len(loc)==1:\n",
    "            coords.append(swiss_town[loc[0]])\n",
    "        else:\n",
    "            index_min_pop = np.argmin([swiss_town[area][-2] for area in loc])\n",
    "            coords.append(swiss_town[loc[index_min_pop]])\n",
    "    else:\n",
    "        loc = kp_admin.extract_keywords(DF.corona_articles.iloc[i])\n",
    "        if len(loc)!=0:\n",
    "            coords.append(swiss_adminareas[loc[0]])\n",
    "        else:\n",
    "            # No town or admin are granularity found. setting\n",
    "            coords.append(tuple([]))\n",
    "            empty_loc+=1\n",
    "DF['coords'] = coords"
   ]
  },
  {
   "cell_type": "markdown",
   "metadata": {},
   "source": [
    "# Data cleaning"
   ]
  },
  {
   "cell_type": "code",
   "execution_count": 87,
   "metadata": {
    "ExecuteTime": {
     "end_time": "2020-09-19T14:33:25.896929Z",
     "start_time": "2020-09-19T14:33:25.755013Z"
    }
   },
   "outputs": [],
   "source": [
    "# dropping no location neww feed.\n",
    "DF_loc = DF[DF.coords!=tuple([])]"
   ]
  },
  {
   "cell_type": "code",
   "execution_count": 102,
   "metadata": {
    "ExecuteTime": {
     "end_time": "2020-09-19T14:45:19.637632Z",
     "start_time": "2020-09-19T14:45:19.563908Z"
    }
   },
   "outputs": [],
   "source": [
    "DF_loc = DF_loc[(DF_loc['pubDateTime'] > '2020-01-20') & (DF_loc['pubDateTime']<'2020-06-08')]"
   ]
  },
  {
   "cell_type": "code",
   "execution_count": 101,
   "metadata": {
    "ExecuteTime": {
     "end_time": "2020-09-19T14:45:04.876197Z",
     "start_time": "2020-09-19T14:45:04.870693Z"
    }
   },
   "outputs": [
    {
     "data": {
      "text/plain": [
       "array([ 4,  5,  6,  7,  8,  9, 10, 11, 12, 13, 14, 15, 16, 17, 18, 19, 20,\n",
       "       21, 22, 23])"
      ]
     },
     "execution_count": 101,
     "metadata": {},
     "output_type": "execute_result"
    }
   ],
   "source": [
    "np.sort(temp.week.unique())"
   ]
  },
  {
   "cell_type": "code",
   "execution_count": 92,
   "metadata": {
    "ExecuteTime": {
     "end_time": "2020-09-19T14:38:20.717753Z",
     "start_time": "2020-09-19T14:38:20.630916Z"
    }
   },
   "outputs": [
    {
     "name": "stderr",
     "output_type": "stream",
     "text": [
      "<ipython-input-92-93d655d98494>:1: SettingWithCopyWarning: \n",
      "A value is trying to be set on a copy of a slice from a DataFrame.\n",
      "Try using .loc[row_indexer,col_indexer] = value instead\n",
      "\n",
      "See the caveats in the documentation: https://pandas.pydata.org/pandas-docs/stable/user_guide/indexing.html#returning-a-view-versus-a-copy\n",
      "  DF_loc['lattitude'] = DF_loc.coords.apply(lambda x: x[0])\n",
      "<ipython-input-92-93d655d98494>:2: SettingWithCopyWarning: \n",
      "A value is trying to be set on a copy of a slice from a DataFrame.\n",
      "Try using .loc[row_indexer,col_indexer] = value instead\n",
      "\n",
      "See the caveats in the documentation: https://pandas.pydata.org/pandas-docs/stable/user_guide/indexing.html#returning-a-view-versus-a-copy\n",
      "  DF_loc['longitude'] = DF_loc.coords.apply(lambda x: x[1])\n"
     ]
    }
   ],
   "source": [
    "DF_loc['lattitude'] = DF_loc.coords.apply(lambda x: x[0])\n",
    "DF_loc['longitude'] = DF_loc.coords.apply(lambda x: x[1])"
   ]
  },
  {
   "cell_type": "code",
   "execution_count": 103,
   "metadata": {
    "ExecuteTime": {
     "end_time": "2020-09-19T14:45:34.598926Z",
     "start_time": "2020-09-19T14:45:26.694879Z"
    }
   },
   "outputs": [],
   "source": [
    "DF_loc.to_csv('/home/aneesh/data/srf_data/processed/processed_lat_and_long.csv')"
   ]
  },
  {
   "cell_type": "code",
   "execution_count": 81,
   "metadata": {
    "ExecuteTime": {
     "end_time": "2020-09-19T14:11:01.022644Z",
     "start_time": "2020-09-19T14:10:47.345145Z"
    }
   },
   "outputs": [],
   "source": [
    "# DF.to_csv('/home/aneesh/data/srf_data/processed/processed_with_location.csv')"
   ]
  },
  {
   "cell_type": "markdown",
   "metadata": {},
   "source": [
    "# Media Scare calculation."
   ]
  },
  {
   "cell_type": "markdown",
   "metadata": {
    "ExecuteTime": {
     "end_time": "2020-09-19T14:28:26.484546Z",
     "start_time": "2020-09-19T14:28:26.479990Z"
    }
   },
   "source": [
    "8 june , 20 Jan"
   ]
  },
  {
   "cell_type": "code",
   "execution_count": 104,
   "metadata": {
    "ExecuteTime": {
     "end_time": "2020-09-19T15:26:03.164091Z",
     "start_time": "2020-09-19T15:25:57.818240Z"
    }
   },
   "outputs": [
    {
     "name": "stderr",
     "output_type": "stream",
     "text": [
      "/opt/miniconda3/envs/hackzh2020/lib/python3.8/site-packages/IPython/core/interactiveshell.py:3145: DtypeWarning: Columns (8) have mixed types.Specify dtype option on import or set low_memory=False.\n",
      "  has_raised = await self.run_ast_nodes(code_ast.body, cell_name,\n"
     ]
    }
   ],
   "source": [
    "DF = pd.read_csv('/home/aneesh/data/srf_data/processed/processed_with_location.csv')"
   ]
  },
  {
   "cell_type": "code",
   "execution_count": 110,
   "metadata": {
    "ExecuteTime": {
     "end_time": "2020-09-19T15:27:58.889269Z",
     "start_time": "2020-09-19T15:27:58.745691Z"
    }
   },
   "outputs": [],
   "source": [
    "DF.pubDateTime = pd.to_datetime(DF.pubDateTime, utc=True)\n",
    "DF['pubDateTime'] = DF.pubDateTime.dt.date\n",
    "DF['corona_articles_number'] = DF['corona_articles'].apply(lambda x : len(x.split('\\n')))"
   ]
  },
  {
   "cell_type": "code",
   "execution_count": 114,
   "metadata": {
    "ExecuteTime": {
     "end_time": "2020-09-19T15:30:31.409016Z",
     "start_time": "2020-09-19T15:30:30.629283Z"
    }
   },
   "outputs": [],
   "source": [
    "DF['corona_articles_number'] = DF['corona_articles'].apply(lambda x : len(x.split('\\n')))"
   ]
  },
  {
   "cell_type": "code",
   "execution_count": 154,
   "metadata": {
    "ExecuteTime": {
     "end_time": "2020-09-19T15:50:20.680405Z",
     "start_time": "2020-09-19T15:50:20.642540Z"
    }
   },
   "outputs": [],
   "source": [
    "Score_DF = DF[['pubDateTime', 'corona_articles_number', 'paragraphs']].groupby(by = ['pubDateTime']).sum()\n",
    "Score_DF = Score_DF.sort_index()\n",
    "Score_DF = Score_DF.rolling(window=7).mean().dropna()\n",
    "# Score_DF = Score_DF.sort_index()"
   ]
  },
  {
   "cell_type": "code",
   "execution_count": 155,
   "metadata": {
    "ExecuteTime": {
     "end_time": "2020-09-19T15:50:21.991645Z",
     "start_time": "2020-09-19T15:50:21.982760Z"
    }
   },
   "outputs": [],
   "source": [
    "Score_DF['relative'] = Score_DF.apply(lambda x: x.corona_articles_number/x.paragraphs, axis=1)"
   ]
  },
  {
   "cell_type": "code",
   "execution_count": 158,
   "metadata": {
    "ExecuteTime": {
     "end_time": "2020-09-19T15:54:47.300441Z",
     "start_time": "2020-09-19T15:54:47.295577Z"
    }
   },
   "outputs": [],
   "source": [
    "max_score = np.max(Score_DF.relative.values)\n",
    "min_score = np.min(Score_DF.relative.values)\n",
    "score_range = max_score -min_score\n",
    "Score_DF['Media_Score'] = Score_DF.relative.apply(lambda x : (x-min_score)*10.0/score_range)"
   ]
  },
  {
   "cell_type": "code",
   "execution_count": 160,
   "metadata": {
    "ExecuteTime": {
     "end_time": "2020-09-19T15:56:27.969757Z",
     "start_time": "2020-09-19T15:56:27.963595Z"
    }
   },
   "outputs": [],
   "source": [
    "Score_DF.to_csv('/home/aneesh/data/srf_data/processed/Swiss_media_score.csv')"
   ]
  },
  {
   "cell_type": "code",
   "execution_count": 159,
   "metadata": {
    "ExecuteTime": {
     "end_time": "2020-09-19T15:55:01.599503Z",
     "start_time": "2020-09-19T15:55:01.393400Z"
    }
   },
   "outputs": [
    {
     "data": {
      "text/plain": [
       "<AxesSubplot:xlabel='pubDateTime', ylabel='Media_Score'>"
      ]
     },
     "execution_count": 159,
     "metadata": {},
     "output_type": "execute_result"
    },
    {
     "data": {
      "image/png": "[encoded data removed]",
      "text/plain": [
       "<Figure size 432x288 with 1 Axes>"
      ]
     },
     "metadata": {
      "needs_background": "light"
     },
     "output_type": "display_data"
    }
   ],
   "source": [
    "sns.lineplot(x=Score_DF.index, y='Media_Score', data=Score_DF)\n",
    "# sns.lineplot(x='pubDateTime', y='corona_articles_number', data=Score_DF)"
   ]
  },
  {
   "cell_type": "markdown",
   "metadata": {
    "ExecuteTime": {
     "end_time": "2020-09-19T16:06:01.811851Z",
     "start_time": "2020-09-19T16:06:01.809434Z"
    }
   },
   "source": [
    "## Sentiment Score calculation"
   ]
  },
  {
   "cell_type": "code",
   "execution_count": 209,
   "metadata": {
    "ExecuteTime": {
     "end_time": "2020-09-19T16:42:03.508192Z",
     "start_time": "2020-09-19T16:41:57.485685Z"
    }
   },
   "outputs": [
    {
     "name": "stderr",
     "output_type": "stream",
     "text": [
      "/opt/miniconda3/envs/hackzh2020/lib/python3.8/site-packages/IPython/core/interactiveshell.py:3145: DtypeWarning: Columns (7) have mixed types.Specify dtype option on import or set low_memory=False.\n",
      "  has_raised = await self.run_ast_nodes(code_ast.body, cell_name,\n"
     ]
    }
   ],
   "source": [
    "DF = pd.read_csv('/home/aneesh/data/srf_data/processed/processed_new.csv')\n",
    "DF.pubDateTime = pd.to_datetime(DF.pubDateTime, utc=True)\n",
    "DF = DF.drop(columns='Unnamed: 0')"
   ]
  },
  {
   "cell_type": "code",
   "execution_count": 210,
   "metadata": {
    "ExecuteTime": {
     "end_time": "2020-09-19T16:42:06.677738Z",
     "start_time": "2020-09-19T16:42:05.044597Z"
    }
   },
   "outputs": [],
   "source": [
    "sentiment_score = joblib.load('/home/aneesh/data/srf_data/processed/sentiments.joblib')\n",
    "sentiment_score = {sent[1]:sent[0] for sent in sentiment_score}"
   ]
  },
  {
   "cell_type": "code",
   "execution_count": 211,
   "metadata": {
    "ExecuteTime": {
     "end_time": "2020-09-19T16:42:09.403082Z",
     "start_time": "2020-09-19T16:42:08.217195Z"
    }
   },
   "outputs": [
    {
     "data": {
      "application/vnd.jupyter.widget-view+json": {
       "model_id": "7067ee3b4d014bdc9a46f524a2162c93",
       "version_major": 2,
       "version_minor": 0
      },
      "text/plain": [
       "HBox(children=(FloatProgress(value=0.0, max=479975.0), HTML(value='')))"
      ]
     },
     "metadata": {},
     "output_type": "display_data"
    },
    {
     "name": "stdout",
     "output_type": "stream",
     "text": [
      "\n"
     ]
    }
   ],
   "source": [
    "DF = DF.reset_index()\n",
    "DF['sentiment_score'] = DF['index'].progress_apply(lambda x: sentiment_score[x] if x in sentiment_score.keys() else 0)"
   ]
  },
  {
   "cell_type": "code",
   "execution_count": 212,
   "metadata": {
    "ExecuteTime": {
     "end_time": "2020-09-19T16:42:24.712007Z",
     "start_time": "2020-09-19T16:42:24.298059Z"
    }
   },
   "outputs": [],
   "source": [
    "DF = DF[DF['corona_articles'].notna()]\n",
    "DF['pubDateTime']= DF.pubDateTime.dt.date"
   ]
  },
  {
   "cell_type": "code",
   "execution_count": 213,
   "metadata": {
    "ExecuteTime": {
     "end_time": "2020-09-19T16:42:26.502737Z",
     "start_time": "2020-09-19T16:42:26.337041Z"
    }
   },
   "outputs": [],
   "source": [
    "DF= DF[['pubDateTime','sentiment_score']].groupby(by=['pubDateTime']).mean()"
   ]
  },
  {
   "cell_type": "code",
   "execution_count": 214,
   "metadata": {
    "ExecuteTime": {
     "end_time": "2020-09-19T16:42:27.807984Z",
     "start_time": "2020-09-19T16:42:27.802976Z"
    }
   },
   "outputs": [],
   "source": [
    "DF = DF.rolling(7).mean().dropna()"
   ]
  },
  {
   "cell_type": "code",
   "execution_count": 215,
   "metadata": {
    "ExecuteTime": {
     "end_time": "2020-09-19T16:42:32.382296Z",
     "start_time": "2020-09-19T16:42:32.171360Z"
    }
   },
   "outputs": [
    {
     "data": {
      "text/plain": [
       "<AxesSubplot:xlabel='pubDateTime', ylabel='sentiment_score'>"
      ]
     },
     "execution_count": 215,
     "metadata": {},
     "output_type": "execute_result"
    },
    {
     "data": {
      "image/png": "[encoded data removed]",
      "text/plain": [
       "<Figure size 432x288 with 1 Axes>"
      ]
     },
     "metadata": {
      "needs_background": "light"
     },
     "output_type": "display_data"
    }
   ],
   "source": [
    "sns.lineplot(x = DF.index, y=DF.sentiment_score)"
   ]
  },
  {
   "cell_type": "code",
   "execution_count": 220,
   "metadata": {
    "ExecuteTime": {
     "end_time": "2020-09-19T16:46:36.817440Z",
     "start_time": "2020-09-19T16:46:36.812497Z"
    }
   },
   "outputs": [],
   "source": [
    "max_score = np.max(DF.sentiment_score.values)\n",
    "min_score = np.min(DF.sentiment_score.values)\n",
    "score_range = max_score -min_score\n",
    "DF['Score'] = DF.sentiment_score.apply(lambda x : (x-min_score)*10.0/score_range)\n",
    "DF = DF.drop(columns='sentiment_score')"
   ]
  },
  {
   "cell_type": "code",
   "execution_count": 226,
   "metadata": {
    "ExecuteTime": {
     "end_time": "2020-09-19T17:01:17.123446Z",
     "start_time": "2020-09-19T17:01:17.116152Z"
    }
   },
   "outputs": [],
   "source": [
    "DF.to_csv('/home/aneesh/data/srf_data/processed/Swiss_media_corona_sentiment_score.csv')"
   ]
  }
 ],
 "metadata": {
  "kernelspec": {
   "display_name": "Python 3",
   "language": "python",
   "name": "python3"
  },
  "language_info": {
   "codemirror_mode": {
    "name": "ipython",
    "version": 3
   },
   "file_extension": ".py",
   "mimetype": "text/x-python",
   "name": "python",
   "nbconvert_exporter": "python",
   "pygments_lexer": "ipython3",
   "version": "3.8.5"
  },
  "varInspector": {
   "cols": {
    "lenName": 16,
    "lenType": 16,
    "lenVar": 40
   },
   "kernels_config": {
    "python": {
     "delete_cmd_postfix": "",
     "delete_cmd_prefix": "del ",
     "library": "var_list.py",
     "varRefreshCmd": "print(var_dic_list())"
    },
    "r": {
     "delete_cmd_postfix": ") ",
     "delete_cmd_prefix": "rm(",
     "library": "var_list.r",
     "varRefreshCmd": "cat(var_dic_list()) "
    }
   },
   "oldHeight": 328.4,
   "position": {
    "height": "40px",
    "left": "1129.8px",
    "right": "20px",
    "top": "122px",
    "width": "350px"
   },
   "types_to_exclude": [
    "module",
    "function",
    "builtin_function_or_method",
    "instance",
    "_Feature"
   ],
   "varInspector_section_display": "none",
   "window_display": true
  }
 },
 "nbformat": 4,
 "nbformat_minor": 4
}
