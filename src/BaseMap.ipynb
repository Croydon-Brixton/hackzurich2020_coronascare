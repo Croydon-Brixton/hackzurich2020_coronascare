{
 "cells": [
  {
   "cell_type": "code",
   "execution_count": 1,
   "metadata": {},
   "outputs": [],
   "source": [
    "import pandas as pd\n",
    "import os\n",
    "from constants import *\n",
    "import folium\n",
    "import IPython\n",
    "from folium.plugins import HeatMap\n",
    "import glob\n",
    "from folium.plugins import HeatMapWithTime\n",
    "from jinja2 import Template\n",
    "from folium.map import Layer\n",
    "from tqdm.auto import tqdm"
   ]
  },
  {
   "cell_type": "code",
   "execution_count": 2,
   "metadata": {},
   "outputs": [],
   "source": [
    "def generateBaseMap(default_location=[47.11126144, 8.4375], default_zoom_start=5):\n",
    "    base_map = folium.Map(location=default_location, control_scale=True, zoom_start=default_zoom_start, tiles = \"Stamen Toner\")\n",
    "    return base_map"
   ]
  },
  {
   "cell_type": "code",
   "execution_count": 3,
   "metadata": {},
   "outputs": [],
   "source": [
    "class HeatMapWithTimeAdditional(Layer):\n",
    "    _template = Template(\"\"\"\n",
    "        {% macro script(this, kwargs) %}\n",
    "            var {{this.get_name()}} = new TDHeatmap({{ this.data }},\n",
    "                {heatmapOptions: {\n",
    "                    radius: {{this.radius}},\n",
    "                    minOpacity: {{this.min_opacity}},\n",
    "                    maxOpacity: {{this.max_opacity}},\n",
    "                    scaleRadius: {{this.scale_radius}},\n",
    "                    useLocalExtrema: {{this.use_local_extrema}},\n",
    "                    defaultWeight: 1,\n",
    "                    {% if this.gradient %}gradient: {{ this.gradient }}{% endif %}\n",
    "                }\n",
    "            }).addTo({{ this._parent.get_name() }});\n",
    "        {% endmacro %}\n",
    "    \"\"\")\n",
    "\n",
    "    def __init__(self, data, name=None, radius=15,\n",
    "                 min_opacity=0, max_opacity=0.6,\n",
    "                 scale_radius=False, gradient=None, use_local_extrema=False,\n",
    "                 overlay=True, control=True, show=True):\n",
    "        super(HeatMapWithTimeAdditional, self).__init__(\n",
    "            name=name, overlay=overlay, control=control, show=show\n",
    "        )\n",
    "        self._name = 'HeatMap'\n",
    "        self.data = data\n",
    "\n",
    "        # Heatmap settings.\n",
    "        self.radius = radius\n",
    "        self.min_opacity = min_opacity\n",
    "        self.max_opacity = max_opacity\n",
    "        self.scale_radius = 'true' if scale_radius else 'false'\n",
    "        self.use_local_extrema = 'true' if use_local_extrema else 'false'\n",
    "        self.gradient = gradient"
   ]
  },
  {
   "cell_type": "code",
   "execution_count": 18,
   "metadata": {},
   "outputs": [
    {
     "data": {
      "text/plain": [
       "['/mnt/data/Bing-COVID-19-Data/data/COVID_Data_cleaned.csv']"
      ]
     },
     "execution_count": 18,
     "metadata": {},
     "output_type": "execute_result"
    }
   ],
   "source": [
    "#LOAD AND CLEAN COVID DATA\n",
    "df = pd.read_csv(os.path.join(DATA_PATH, \"Bing-COVID-19-Data\", \"data\", \"Bing-COVID19-Data.csv\")).fillna(0)\n",
    "df_covid_copy = df[df.Country_Region != \"Worldwide\"].copy()\n",
    "df_covid_copy = df_covid_copy[['Updated','Latitude', 'Longitude', 'ConfirmedChange']]\n",
    "df_covid_copy[\"Updated\"] = pd.to_datetime(df.Updated)\n",
    "df_covid_copy = df_covid_copy[df_covid_copy.Updated < \"2020-06-08\"]"
   ]
  },
  {
   "cell_type": "code",
   "execution_count": 22,
   "metadata": {},
   "outputs": [
    {
     "data": {
      "text/plain": [
       "['/mnt/data/All_Tweets_cleaned.csv']"
      ]
     },
     "execution_count": 22,
     "metadata": {},
     "output_type": "execute_result"
    }
   ],
   "source": [
    "#LOAD AND AGGREGATE TWITTER DATA\n",
    "geo_tweets_file, place_tweets_file = glob.glob(TWITTER_PATH + \"/*.csv\")\n",
    "geo_tweets = pd.read_csv(geo_tweets_file)\n",
    "place_tweets = pd.read_csv(place_tweets_file)\n",
    "place_tweets = place_tweets.rename(columns={\"estimated_longitude\": \"Longitude\", \"estimated_latitude\": \"Latitude\", \"created_at\": \"Updated\"})\n",
    "geo_tweets = geo_tweets.rename(columns={\"longitude\": \"Longitude\", \"latitude\": \"Latitude\", \"created_at\": \"Updated\"})\n",
    "all_tweets = pd.concat([place_tweets, geo_tweets])\n",
    "all_tweets = all_tweets[['Updated', 'Longitude', 'Latitude']]\n",
    "all_tweets[\"Updated\"] = pd.to_datetime(all_tweets.Updated)\n",
    "all_tweets_copy = all_tweets.copy()\n",
    "#to have same time scale as covid data\n",
    "all_tweets_copy = all_tweets_copy[all_tweets_copy.Updated > pd.to_datetime(\"2020-01-20\")]"
   ]
  },
  {
   "cell_type": "code",
   "execution_count": 12,
   "metadata": {},
   "outputs": [],
   "source": [
    "base_map = generateBaseMap()"
   ]
  },
  {
   "cell_type": "code",
   "execution_count": 13,
   "metadata": {},
   "outputs": [],
   "source": [
    "#COVID CASES OVER TIME\n",
    "df_date_list_cov = []\n",
    "for date in df_covid_copy.Updated.sort_values().unique():\n",
    "    df_date_list_cov.append(df_covid_copy.loc[df_covid_copy.Updated == date, ['Latitude', 'Longitude', 'ConfirmedChange']].groupby(['Latitude', 'Longitude']).sum().reset_index().values.tolist())\n",
    "\n",
    "hmap_time_covid=HeatMapWithTime(df_date_list_cov, radius=20, min_opacity = 0.5, gradient ={0.2: 'yellow', 0.5: 'gold', 0.8: 'orange', 1.0: 'red'}, max_opacity=0.8, use_local_extrema=True, overlay=False, name=\"Covid\").add_to(base_map)\n"
   ]
  },
  {
   "cell_type": "code",
   "execution_count": 8,
   "metadata": {},
   "outputs": [
    {
     "data": {
      "application/vnd.jupyter.widget-view+json": {
       "model_id": "600bcfb6896d4255bd531d0ccd86ddda",
       "version_major": 2,
       "version_minor": 0
      },
      "text/plain": [
       "HBox(children=(FloatProgress(value=0.0, max=139.0), HTML(value='')))"
      ]
     },
     "metadata": {},
     "output_type": "display_data"
    },
    {
     "name": "stdout",
     "output_type": "stream",
     "text": [
      "\n"
     ]
    }
   ],
   "source": [
    "#TWITTER CASES OVER TIME\n",
    "df_date_list = []\n",
    "for date in tqdm(all_tweets_copy.Updated.sort_values().unique()):\n",
    "    df_date_list.append(all_tweets_copy.loc[all_tweets_copy.Updated == date, ['Latitude', 'Longitude']].groupby(['Latitude', 'Longitude']).sum().reset_index().values.tolist())"
   ]
  },
  {
   "cell_type": "code",
   "execution_count": 14,
   "metadata": {},
   "outputs": [],
   "source": [
    "#hmap_time_twitter=HeatMapWithTime(df_date_list, radius=20, min_opacity = 0.5, gradient ={0.2: 'lightsteelblue', 0.5: 'cornflowerblue', 0.7: 'royalblue', 1.0: 'navy'}, max_opacity=0.8, use_local_extrema=True, overlay=True).add_to(base_map)\n",
    "hmap_time_twitter = HeatMapWithTimeAdditional(df_date_list,overlay=False,name='Twitter',min_opacity=0.05,radius=20,max_opacity=1, gradient ={0.2: 'lightsteelblue', 0.5: 'cornflowerblue', 0.7: 'royalblue', 1.0: 'navy'}).add_to(base_map)\n",
    "\n"
   ]
  },
  {
   "cell_type": "code",
   "execution_count": 15,
   "metadata": {
    "scrolled": false
   },
   "outputs": [],
   "source": [
    "#ADD TO MAP\n",
    "base_map.add_child(hmap_time_twitter)\n",
    "base_map.add_child(hmap_time_covid)"
   ]
  },
  {
   "cell_type": "code",
   "execution_count": null,
   "metadata": {},
   "outputs": [],
   "source": [
    "base_map"
   ]
  },
  {
   "cell_type": "code",
   "execution_count": null,
   "metadata": {},
   "outputs": [],
   "source": []
  }
 ],
 "metadata": {
  "kernelspec": {
   "display_name": "Python 3",
   "language": "python",
   "name": "python3"
  },
  "language_info": {
   "codemirror_mode": {
    "name": "ipython",
    "version": 3
   },
   "file_extension": ".py",
   "mimetype": "text/x-python",
   "name": "python",
   "nbconvert_exporter": "python",
   "pygments_lexer": "ipython3",
   "version": "3.8.5"
  },
  "toc": {
   "base_numbering": 1,
   "nav_menu": {},
   "number_sections": true,
   "sideBar": true,
   "skip_h1_title": false,
   "title_cell": "Table of Contents",
   "title_sidebar": "Contents",
   "toc_cell": false,
   "toc_position": {},
   "toc_section_display": true,
   "toc_window_display": false
  }
 },
 "nbformat": 4,
 "nbformat_minor": 4
}
